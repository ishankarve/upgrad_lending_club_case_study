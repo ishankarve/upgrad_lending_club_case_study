{
  "cells": [
    {
      "cell_type": "markdown",
      "metadata": {
        "id": "view-in-github",
        "colab_type": "text"
      },
      "source": [
        "<a href=\"https://colab.research.google.com/github/ishankarve/upgrad_lending_club_case_study/blob/main/Ishan%20Karve.ipynb\" target=\"_parent\"><img src=\"https://colab.research.google.com/assets/colab-badge.svg\" alt=\"Open In Colab\"/></a>"
      ]
    },
    {
      "cell_type": "markdown",
      "metadata": {
        "id": "3r90Bul8eJD7"
      },
      "source": [
        "### Aim of the Study\n",
        "##### Find the drivig factors/ variables behind loan default. i.e find out variables tha are strong indicators of a default. \n",
        "\n",
        "###### Major parts that need to be done are\n",
        "1. Data Understandng\n",
        "2. Data Cleaning\n",
        "3. Data Analysis\n",
        "4. Recommendations\n",
        "\n",
        "###### Steps to Data Cleaning\n",
        "1. Check Percentage of Missing Values\n",
        "2. Remove columns with high missing percentages\n",
        "3. Impute data in columns with acceptable missing percentages\n",
        "4. Drop rows where missing percentage is very high\n",
        "\n",
        "###### Steps to data analysis\n",
        "1. Identify variables that are related to the applicant\n",
        "2. Identify loan characteristics\n",
        "3. Indetify customer behaviour variables.\n",
        "4. Get rid if rows were loan status is 'current'\n",
        "5. Since customer behivaiour variables are not available at application time, get rid of them too, however, retain those which are available via credit bureau\n"
      ]
    },
    {
      "cell_type": "markdown",
      "metadata": {
        "id": "5K7P7kVTeJD9"
      },
      "source": [
        "#### Import Libraries and setup environment"
      ]
    },
    {
      "cell_type": "code",
      "execution_count": 2,
      "metadata": {
        "id": "hKbhuFHJeJD-"
      },
      "outputs": [],
      "source": [
        "#import the required libraries\n",
        "import numpy as np\n",
        "import pandas as pd\n",
        "import matplotlib.pyplot as plt\n",
        "import seaborn as sns"
      ]
    },
    {
      "cell_type": "code",
      "execution_count": 3,
      "metadata": {
        "id": "425WgDAoeJD_"
      },
      "outputs": [],
      "source": [
        "#prevent pandas from truncating output\n",
        "pd.set_option('display.max_rows', 500)\n",
        "pd.set_option('display.max_columns', 500)\n",
        "pd.set_option('display.width', 1000)"
      ]
    },
    {
      "cell_type": "code",
      "execution_count": 4,
      "metadata": {
        "id": "fhXfO-eceJEA"
      },
      "outputs": [],
      "source": [
        "#read the given data file using pandas to a dataframe\n",
        "loan = pd.read_csv(\"https://github.com/ishankarve/upgrad_lending_club_case_study/raw/main/loan.csv\",engine='python')"
      ]
    },
    {
      "cell_type": "markdown",
      "metadata": {
        "id": "VqhxK7kVeJEA"
      },
      "source": [
        "#### Get information about the dataset"
      ]
    },
    {
      "cell_type": "code",
      "execution_count": 5,
      "metadata": {
        "colab": {
          "base_uri": "https://localhost:8080/"
        },
        "id": "ftGwvZTCeJEB",
        "outputId": "66c830b4-4a9f-43c9-a2a9-49fbbdd0773a"
      },
      "outputs": [
        {
          "output_type": "execute_result",
          "data": {
            "text/plain": [
              "(39717, 111)"
            ]
          },
          "metadata": {},
          "execution_count": 5
        }
      ],
      "source": [
        "#get the shape of the data frame\n",
        "loan.shape"
      ]
    },
    {
      "cell_type": "code",
      "execution_count": 6,
      "metadata": {
        "colab": {
          "base_uri": "https://localhost:8080/"
        },
        "id": "weqLTNfReJEC",
        "outputId": "9b565aa5-4adf-4f29-81b4-df13ab768302"
      },
      "outputs": [
        {
          "output_type": "execute_result",
          "data": {
            "text/plain": [
              "id                                  int64\n",
              "member_id                           int64\n",
              "loan_amnt                           int64\n",
              "funded_amnt                         int64\n",
              "funded_amnt_inv                   float64\n",
              "term                               object\n",
              "int_rate                           object\n",
              "installment                       float64\n",
              "grade                              object\n",
              "sub_grade                          object\n",
              "emp_title                          object\n",
              "emp_length                         object\n",
              "home_ownership                     object\n",
              "annual_inc                        float64\n",
              "verification_status                object\n",
              "issue_d                            object\n",
              "loan_status                        object\n",
              "pymnt_plan                         object\n",
              "url                                object\n",
              "desc                               object\n",
              "purpose                            object\n",
              "title                              object\n",
              "zip_code                           object\n",
              "addr_state                         object\n",
              "dti                               float64\n",
              "delinq_2yrs                         int64\n",
              "earliest_cr_line                   object\n",
              "inq_last_6mths                      int64\n",
              "mths_since_last_delinq            float64\n",
              "mths_since_last_record            float64\n",
              "open_acc                            int64\n",
              "pub_rec                             int64\n",
              "revol_bal                           int64\n",
              "revol_util                         object\n",
              "total_acc                           int64\n",
              "initial_list_status                object\n",
              "out_prncp                         float64\n",
              "out_prncp_inv                     float64\n",
              "total_pymnt                       float64\n",
              "total_pymnt_inv                   float64\n",
              "total_rec_prncp                   float64\n",
              "total_rec_int                     float64\n",
              "total_rec_late_fee                float64\n",
              "recoveries                        float64\n",
              "collection_recovery_fee           float64\n",
              "last_pymnt_d                       object\n",
              "last_pymnt_amnt                   float64\n",
              "next_pymnt_d                       object\n",
              "last_credit_pull_d                 object\n",
              "collections_12_mths_ex_med        float64\n",
              "mths_since_last_major_derog       float64\n",
              "policy_code                         int64\n",
              "application_type                   object\n",
              "annual_inc_joint                  float64\n",
              "dti_joint                         float64\n",
              "verification_status_joint         float64\n",
              "acc_now_delinq                      int64\n",
              "tot_coll_amt                      float64\n",
              "tot_cur_bal                       float64\n",
              "open_acc_6m                       float64\n",
              "open_il_6m                        float64\n",
              "open_il_12m                       float64\n",
              "open_il_24m                       float64\n",
              "mths_since_rcnt_il                float64\n",
              "total_bal_il                      float64\n",
              "il_util                           float64\n",
              "open_rv_12m                       float64\n",
              "open_rv_24m                       float64\n",
              "max_bal_bc                        float64\n",
              "all_util                          float64\n",
              "total_rev_hi_lim                  float64\n",
              "inq_fi                            float64\n",
              "total_cu_tl                       float64\n",
              "inq_last_12m                      float64\n",
              "acc_open_past_24mths              float64\n",
              "avg_cur_bal                       float64\n",
              "bc_open_to_buy                    float64\n",
              "bc_util                           float64\n",
              "chargeoff_within_12_mths          float64\n",
              "delinq_amnt                         int64\n",
              "mo_sin_old_il_acct                float64\n",
              "mo_sin_old_rev_tl_op              float64\n",
              "mo_sin_rcnt_rev_tl_op             float64\n",
              "mo_sin_rcnt_tl                    float64\n",
              "mort_acc                          float64\n",
              "mths_since_recent_bc              float64\n",
              "mths_since_recent_bc_dlq          float64\n",
              "mths_since_recent_inq             float64\n",
              "mths_since_recent_revol_delinq    float64\n",
              "num_accts_ever_120_pd             float64\n",
              "num_actv_bc_tl                    float64\n",
              "num_actv_rev_tl                   float64\n",
              "num_bc_sats                       float64\n",
              "num_bc_tl                         float64\n",
              "num_il_tl                         float64\n",
              "num_op_rev_tl                     float64\n",
              "num_rev_accts                     float64\n",
              "num_rev_tl_bal_gt_0               float64\n",
              "num_sats                          float64\n",
              "num_tl_120dpd_2m                  float64\n",
              "num_tl_30dpd                      float64\n",
              "num_tl_90g_dpd_24m                float64\n",
              "num_tl_op_past_12m                float64\n",
              "pct_tl_nvr_dlq                    float64\n",
              "percent_bc_gt_75                  float64\n",
              "pub_rec_bankruptcies              float64\n",
              "tax_liens                         float64\n",
              "tot_hi_cred_lim                   float64\n",
              "total_bal_ex_mort                 float64\n",
              "total_bc_limit                    float64\n",
              "total_il_high_credit_limit        float64\n",
              "dtype: object"
            ]
          },
          "metadata": {},
          "execution_count": 6
        }
      ],
      "source": [
        "#get the list of columns\n",
        "loan.dtypes"
      ]
    },
    {
      "cell_type": "code",
      "execution_count": 7,
      "metadata": {
        "colab": {
          "base_uri": "https://localhost:8080/",
          "height": 722
        },
        "id": "C-8fJFFueJED",
        "outputId": "54a59854-ae99-4da8-8d3f-55d8f7cd7b33"
      },
      "outputs": [
        {
          "output_type": "execute_result",
          "data": {
            "text/html": [
              "\n",
              "  <div id=\"df-8dadd0b7-fbad-44a8-9c36-021f020084a6\">\n",
              "    <div class=\"colab-df-container\">\n",
              "      <div>\n",
              "<style scoped>\n",
              "    .dataframe tbody tr th:only-of-type {\n",
              "        vertical-align: middle;\n",
              "    }\n",
              "\n",
              "    .dataframe tbody tr th {\n",
              "        vertical-align: top;\n",
              "    }\n",
              "\n",
              "    .dataframe thead th {\n",
              "        text-align: right;\n",
              "    }\n",
              "</style>\n",
              "<table border=\"1\" class=\"dataframe\">\n",
              "  <thead>\n",
              "    <tr style=\"text-align: right;\">\n",
              "      <th></th>\n",
              "      <th>id</th>\n",
              "      <th>member_id</th>\n",
              "      <th>loan_amnt</th>\n",
              "      <th>funded_amnt</th>\n",
              "      <th>funded_amnt_inv</th>\n",
              "      <th>term</th>\n",
              "      <th>int_rate</th>\n",
              "      <th>installment</th>\n",
              "      <th>grade</th>\n",
              "      <th>sub_grade</th>\n",
              "      <th>emp_title</th>\n",
              "      <th>emp_length</th>\n",
              "      <th>home_ownership</th>\n",
              "      <th>annual_inc</th>\n",
              "      <th>verification_status</th>\n",
              "      <th>issue_d</th>\n",
              "      <th>loan_status</th>\n",
              "      <th>pymnt_plan</th>\n",
              "      <th>url</th>\n",
              "      <th>desc</th>\n",
              "      <th>purpose</th>\n",
              "      <th>title</th>\n",
              "      <th>zip_code</th>\n",
              "      <th>addr_state</th>\n",
              "      <th>dti</th>\n",
              "      <th>delinq_2yrs</th>\n",
              "      <th>earliest_cr_line</th>\n",
              "      <th>inq_last_6mths</th>\n",
              "      <th>mths_since_last_delinq</th>\n",
              "      <th>mths_since_last_record</th>\n",
              "      <th>open_acc</th>\n",
              "      <th>pub_rec</th>\n",
              "      <th>revol_bal</th>\n",
              "      <th>revol_util</th>\n",
              "      <th>total_acc</th>\n",
              "      <th>initial_list_status</th>\n",
              "      <th>out_prncp</th>\n",
              "      <th>out_prncp_inv</th>\n",
              "      <th>total_pymnt</th>\n",
              "      <th>total_pymnt_inv</th>\n",
              "      <th>total_rec_prncp</th>\n",
              "      <th>total_rec_int</th>\n",
              "      <th>total_rec_late_fee</th>\n",
              "      <th>recoveries</th>\n",
              "      <th>collection_recovery_fee</th>\n",
              "      <th>last_pymnt_d</th>\n",
              "      <th>last_pymnt_amnt</th>\n",
              "      <th>next_pymnt_d</th>\n",
              "      <th>last_credit_pull_d</th>\n",
              "      <th>collections_12_mths_ex_med</th>\n",
              "      <th>mths_since_last_major_derog</th>\n",
              "      <th>policy_code</th>\n",
              "      <th>application_type</th>\n",
              "      <th>annual_inc_joint</th>\n",
              "      <th>dti_joint</th>\n",
              "      <th>verification_status_joint</th>\n",
              "      <th>acc_now_delinq</th>\n",
              "      <th>tot_coll_amt</th>\n",
              "      <th>tot_cur_bal</th>\n",
              "      <th>open_acc_6m</th>\n",
              "      <th>open_il_6m</th>\n",
              "      <th>open_il_12m</th>\n",
              "      <th>open_il_24m</th>\n",
              "      <th>mths_since_rcnt_il</th>\n",
              "      <th>total_bal_il</th>\n",
              "      <th>il_util</th>\n",
              "      <th>open_rv_12m</th>\n",
              "      <th>open_rv_24m</th>\n",
              "      <th>max_bal_bc</th>\n",
              "      <th>all_util</th>\n",
              "      <th>total_rev_hi_lim</th>\n",
              "      <th>inq_fi</th>\n",
              "      <th>total_cu_tl</th>\n",
              "      <th>inq_last_12m</th>\n",
              "      <th>acc_open_past_24mths</th>\n",
              "      <th>avg_cur_bal</th>\n",
              "      <th>bc_open_to_buy</th>\n",
              "      <th>bc_util</th>\n",
              "      <th>chargeoff_within_12_mths</th>\n",
              "      <th>delinq_amnt</th>\n",
              "      <th>mo_sin_old_il_acct</th>\n",
              "      <th>mo_sin_old_rev_tl_op</th>\n",
              "      <th>mo_sin_rcnt_rev_tl_op</th>\n",
              "      <th>mo_sin_rcnt_tl</th>\n",
              "      <th>mort_acc</th>\n",
              "      <th>mths_since_recent_bc</th>\n",
              "      <th>mths_since_recent_bc_dlq</th>\n",
              "      <th>mths_since_recent_inq</th>\n",
              "      <th>mths_since_recent_revol_delinq</th>\n",
              "      <th>num_accts_ever_120_pd</th>\n",
              "      <th>num_actv_bc_tl</th>\n",
              "      <th>num_actv_rev_tl</th>\n",
              "      <th>num_bc_sats</th>\n",
              "      <th>num_bc_tl</th>\n",
              "      <th>num_il_tl</th>\n",
              "      <th>num_op_rev_tl</th>\n",
              "      <th>num_rev_accts</th>\n",
              "      <th>num_rev_tl_bal_gt_0</th>\n",
              "      <th>num_sats</th>\n",
              "      <th>num_tl_120dpd_2m</th>\n",
              "      <th>num_tl_30dpd</th>\n",
              "      <th>num_tl_90g_dpd_24m</th>\n",
              "      <th>num_tl_op_past_12m</th>\n",
              "      <th>pct_tl_nvr_dlq</th>\n",
              "      <th>percent_bc_gt_75</th>\n",
              "      <th>pub_rec_bankruptcies</th>\n",
              "      <th>tax_liens</th>\n",
              "      <th>tot_hi_cred_lim</th>\n",
              "      <th>total_bal_ex_mort</th>\n",
              "      <th>total_bc_limit</th>\n",
              "      <th>total_il_high_credit_limit</th>\n",
              "    </tr>\n",
              "  </thead>\n",
              "  <tbody>\n",
              "    <tr>\n",
              "      <th>0</th>\n",
              "      <td>1077501</td>\n",
              "      <td>1296599</td>\n",
              "      <td>5000</td>\n",
              "      <td>5000</td>\n",
              "      <td>4975.0</td>\n",
              "      <td>36 months</td>\n",
              "      <td>10.65%</td>\n",
              "      <td>162.87</td>\n",
              "      <td>B</td>\n",
              "      <td>B2</td>\n",
              "      <td>NaN</td>\n",
              "      <td>10+ years</td>\n",
              "      <td>RENT</td>\n",
              "      <td>24000.0</td>\n",
              "      <td>Verified</td>\n",
              "      <td>Dec-11</td>\n",
              "      <td>Fully Paid</td>\n",
              "      <td>n</td>\n",
              "      <td>https://lendingclub.com/browse/loanDetail.acti...</td>\n",
              "      <td>Borrower added on 12/22/11 &gt; I need to upgra...</td>\n",
              "      <td>credit_card</td>\n",
              "      <td>Computer</td>\n",
              "      <td>860xx</td>\n",
              "      <td>AZ</td>\n",
              "      <td>27.65</td>\n",
              "      <td>0</td>\n",
              "      <td>Jan-85</td>\n",
              "      <td>1</td>\n",
              "      <td>NaN</td>\n",
              "      <td>NaN</td>\n",
              "      <td>3</td>\n",
              "      <td>0</td>\n",
              "      <td>13648</td>\n",
              "      <td>83.70%</td>\n",
              "      <td>9</td>\n",
              "      <td>f</td>\n",
              "      <td>0.00</td>\n",
              "      <td>0.00</td>\n",
              "      <td>5863.155187</td>\n",
              "      <td>5833.84</td>\n",
              "      <td>5000.00</td>\n",
              "      <td>863.16</td>\n",
              "      <td>0.00</td>\n",
              "      <td>0.00</td>\n",
              "      <td>0.00</td>\n",
              "      <td>Jan-15</td>\n",
              "      <td>171.62</td>\n",
              "      <td>NaN</td>\n",
              "      <td>May-16</td>\n",
              "      <td>0.0</td>\n",
              "      <td>NaN</td>\n",
              "      <td>1</td>\n",
              "      <td>INDIVIDUAL</td>\n",
              "      <td>NaN</td>\n",
              "      <td>NaN</td>\n",
              "      <td>NaN</td>\n",
              "      <td>0</td>\n",
              "      <td>NaN</td>\n",
              "      <td>NaN</td>\n",
              "      <td>NaN</td>\n",
              "      <td>NaN</td>\n",
              "      <td>NaN</td>\n",
              "      <td>NaN</td>\n",
              "      <td>NaN</td>\n",
              "      <td>NaN</td>\n",
              "      <td>NaN</td>\n",
              "      <td>NaN</td>\n",
              "      <td>NaN</td>\n",
              "      <td>NaN</td>\n",
              "      <td>NaN</td>\n",
              "      <td>NaN</td>\n",
              "      <td>NaN</td>\n",
              "      <td>NaN</td>\n",
              "      <td>NaN</td>\n",
              "      <td>NaN</td>\n",
              "      <td>NaN</td>\n",
              "      <td>NaN</td>\n",
              "      <td>NaN</td>\n",
              "      <td>0.0</td>\n",
              "      <td>0</td>\n",
              "      <td>NaN</td>\n",
              "      <td>NaN</td>\n",
              "      <td>NaN</td>\n",
              "      <td>NaN</td>\n",
              "      <td>NaN</td>\n",
              "      <td>NaN</td>\n",
              "      <td>NaN</td>\n",
              "      <td>NaN</td>\n",
              "      <td>NaN</td>\n",
              "      <td>NaN</td>\n",
              "      <td>NaN</td>\n",
              "      <td>NaN</td>\n",
              "      <td>NaN</td>\n",
              "      <td>NaN</td>\n",
              "      <td>NaN</td>\n",
              "      <td>NaN</td>\n",
              "      <td>NaN</td>\n",
              "      <td>NaN</td>\n",
              "      <td>NaN</td>\n",
              "      <td>NaN</td>\n",
              "      <td>NaN</td>\n",
              "      <td>NaN</td>\n",
              "      <td>NaN</td>\n",
              "      <td>NaN</td>\n",
              "      <td>NaN</td>\n",
              "      <td>0.0</td>\n",
              "      <td>0.0</td>\n",
              "      <td>NaN</td>\n",
              "      <td>NaN</td>\n",
              "      <td>NaN</td>\n",
              "      <td>NaN</td>\n",
              "    </tr>\n",
              "    <tr>\n",
              "      <th>1</th>\n",
              "      <td>1077430</td>\n",
              "      <td>1314167</td>\n",
              "      <td>2500</td>\n",
              "      <td>2500</td>\n",
              "      <td>2500.0</td>\n",
              "      <td>60 months</td>\n",
              "      <td>15.27%</td>\n",
              "      <td>59.83</td>\n",
              "      <td>C</td>\n",
              "      <td>C4</td>\n",
              "      <td>Ryder</td>\n",
              "      <td>&lt; 1 year</td>\n",
              "      <td>RENT</td>\n",
              "      <td>30000.0</td>\n",
              "      <td>Source Verified</td>\n",
              "      <td>Dec-11</td>\n",
              "      <td>Charged Off</td>\n",
              "      <td>n</td>\n",
              "      <td>https://lendingclub.com/browse/loanDetail.acti...</td>\n",
              "      <td>Borrower added on 12/22/11 &gt; I plan to use t...</td>\n",
              "      <td>car</td>\n",
              "      <td>bike</td>\n",
              "      <td>309xx</td>\n",
              "      <td>GA</td>\n",
              "      <td>1.00</td>\n",
              "      <td>0</td>\n",
              "      <td>Apr-99</td>\n",
              "      <td>5</td>\n",
              "      <td>NaN</td>\n",
              "      <td>NaN</td>\n",
              "      <td>3</td>\n",
              "      <td>0</td>\n",
              "      <td>1687</td>\n",
              "      <td>9.40%</td>\n",
              "      <td>4</td>\n",
              "      <td>f</td>\n",
              "      <td>0.00</td>\n",
              "      <td>0.00</td>\n",
              "      <td>1008.710000</td>\n",
              "      <td>1008.71</td>\n",
              "      <td>456.46</td>\n",
              "      <td>435.17</td>\n",
              "      <td>0.00</td>\n",
              "      <td>117.08</td>\n",
              "      <td>1.11</td>\n",
              "      <td>Apr-13</td>\n",
              "      <td>119.66</td>\n",
              "      <td>NaN</td>\n",
              "      <td>Sep-13</td>\n",
              "      <td>0.0</td>\n",
              "      <td>NaN</td>\n",
              "      <td>1</td>\n",
              "      <td>INDIVIDUAL</td>\n",
              "      <td>NaN</td>\n",
              "      <td>NaN</td>\n",
              "      <td>NaN</td>\n",
              "      <td>0</td>\n",
              "      <td>NaN</td>\n",
              "      <td>NaN</td>\n",
              "      <td>NaN</td>\n",
              "      <td>NaN</td>\n",
              "      <td>NaN</td>\n",
              "      <td>NaN</td>\n",
              "      <td>NaN</td>\n",
              "      <td>NaN</td>\n",
              "      <td>NaN</td>\n",
              "      <td>NaN</td>\n",
              "      <td>NaN</td>\n",
              "      <td>NaN</td>\n",
              "      <td>NaN</td>\n",
              "      <td>NaN</td>\n",
              "      <td>NaN</td>\n",
              "      <td>NaN</td>\n",
              "      <td>NaN</td>\n",
              "      <td>NaN</td>\n",
              "      <td>NaN</td>\n",
              "      <td>NaN</td>\n",
              "      <td>NaN</td>\n",
              "      <td>0.0</td>\n",
              "      <td>0</td>\n",
              "      <td>NaN</td>\n",
              "      <td>NaN</td>\n",
              "      <td>NaN</td>\n",
              "      <td>NaN</td>\n",
              "      <td>NaN</td>\n",
              "      <td>NaN</td>\n",
              "      <td>NaN</td>\n",
              "      <td>NaN</td>\n",
              "      <td>NaN</td>\n",
              "      <td>NaN</td>\n",
              "      <td>NaN</td>\n",
              "      <td>NaN</td>\n",
              "      <td>NaN</td>\n",
              "      <td>NaN</td>\n",
              "      <td>NaN</td>\n",
              "      <td>NaN</td>\n",
              "      <td>NaN</td>\n",
              "      <td>NaN</td>\n",
              "      <td>NaN</td>\n",
              "      <td>NaN</td>\n",
              "      <td>NaN</td>\n",
              "      <td>NaN</td>\n",
              "      <td>NaN</td>\n",
              "      <td>NaN</td>\n",
              "      <td>NaN</td>\n",
              "      <td>0.0</td>\n",
              "      <td>0.0</td>\n",
              "      <td>NaN</td>\n",
              "      <td>NaN</td>\n",
              "      <td>NaN</td>\n",
              "      <td>NaN</td>\n",
              "    </tr>\n",
              "    <tr>\n",
              "      <th>2</th>\n",
              "      <td>1077175</td>\n",
              "      <td>1313524</td>\n",
              "      <td>2400</td>\n",
              "      <td>2400</td>\n",
              "      <td>2400.0</td>\n",
              "      <td>36 months</td>\n",
              "      <td>15.96%</td>\n",
              "      <td>84.33</td>\n",
              "      <td>C</td>\n",
              "      <td>C5</td>\n",
              "      <td>NaN</td>\n",
              "      <td>10+ years</td>\n",
              "      <td>RENT</td>\n",
              "      <td>12252.0</td>\n",
              "      <td>Not Verified</td>\n",
              "      <td>Dec-11</td>\n",
              "      <td>Fully Paid</td>\n",
              "      <td>n</td>\n",
              "      <td>https://lendingclub.com/browse/loanDetail.acti...</td>\n",
              "      <td>NaN</td>\n",
              "      <td>small_business</td>\n",
              "      <td>real estate business</td>\n",
              "      <td>606xx</td>\n",
              "      <td>IL</td>\n",
              "      <td>8.72</td>\n",
              "      <td>0</td>\n",
              "      <td>Nov-01</td>\n",
              "      <td>2</td>\n",
              "      <td>NaN</td>\n",
              "      <td>NaN</td>\n",
              "      <td>2</td>\n",
              "      <td>0</td>\n",
              "      <td>2956</td>\n",
              "      <td>98.50%</td>\n",
              "      <td>10</td>\n",
              "      <td>f</td>\n",
              "      <td>0.00</td>\n",
              "      <td>0.00</td>\n",
              "      <td>3005.666844</td>\n",
              "      <td>3005.67</td>\n",
              "      <td>2400.00</td>\n",
              "      <td>605.67</td>\n",
              "      <td>0.00</td>\n",
              "      <td>0.00</td>\n",
              "      <td>0.00</td>\n",
              "      <td>Jun-14</td>\n",
              "      <td>649.91</td>\n",
              "      <td>NaN</td>\n",
              "      <td>May-16</td>\n",
              "      <td>0.0</td>\n",
              "      <td>NaN</td>\n",
              "      <td>1</td>\n",
              "      <td>INDIVIDUAL</td>\n",
              "      <td>NaN</td>\n",
              "      <td>NaN</td>\n",
              "      <td>NaN</td>\n",
              "      <td>0</td>\n",
              "      <td>NaN</td>\n",
              "      <td>NaN</td>\n",
              "      <td>NaN</td>\n",
              "      <td>NaN</td>\n",
              "      <td>NaN</td>\n",
              "      <td>NaN</td>\n",
              "      <td>NaN</td>\n",
              "      <td>NaN</td>\n",
              "      <td>NaN</td>\n",
              "      <td>NaN</td>\n",
              "      <td>NaN</td>\n",
              "      <td>NaN</td>\n",
              "      <td>NaN</td>\n",
              "      <td>NaN</td>\n",
              "      <td>NaN</td>\n",
              "      <td>NaN</td>\n",
              "      <td>NaN</td>\n",
              "      <td>NaN</td>\n",
              "      <td>NaN</td>\n",
              "      <td>NaN</td>\n",
              "      <td>NaN</td>\n",
              "      <td>0.0</td>\n",
              "      <td>0</td>\n",
              "      <td>NaN</td>\n",
              "      <td>NaN</td>\n",
              "      <td>NaN</td>\n",
              "      <td>NaN</td>\n",
              "      <td>NaN</td>\n",
              "      <td>NaN</td>\n",
              "      <td>NaN</td>\n",
              "      <td>NaN</td>\n",
              "      <td>NaN</td>\n",
              "      <td>NaN</td>\n",
              "      <td>NaN</td>\n",
              "      <td>NaN</td>\n",
              "      <td>NaN</td>\n",
              "      <td>NaN</td>\n",
              "      <td>NaN</td>\n",
              "      <td>NaN</td>\n",
              "      <td>NaN</td>\n",
              "      <td>NaN</td>\n",
              "      <td>NaN</td>\n",
              "      <td>NaN</td>\n",
              "      <td>NaN</td>\n",
              "      <td>NaN</td>\n",
              "      <td>NaN</td>\n",
              "      <td>NaN</td>\n",
              "      <td>NaN</td>\n",
              "      <td>0.0</td>\n",
              "      <td>0.0</td>\n",
              "      <td>NaN</td>\n",
              "      <td>NaN</td>\n",
              "      <td>NaN</td>\n",
              "      <td>NaN</td>\n",
              "    </tr>\n",
              "    <tr>\n",
              "      <th>3</th>\n",
              "      <td>1076863</td>\n",
              "      <td>1277178</td>\n",
              "      <td>10000</td>\n",
              "      <td>10000</td>\n",
              "      <td>10000.0</td>\n",
              "      <td>36 months</td>\n",
              "      <td>13.49%</td>\n",
              "      <td>339.31</td>\n",
              "      <td>C</td>\n",
              "      <td>C1</td>\n",
              "      <td>AIR RESOURCES BOARD</td>\n",
              "      <td>10+ years</td>\n",
              "      <td>RENT</td>\n",
              "      <td>49200.0</td>\n",
              "      <td>Source Verified</td>\n",
              "      <td>Dec-11</td>\n",
              "      <td>Fully Paid</td>\n",
              "      <td>n</td>\n",
              "      <td>https://lendingclub.com/browse/loanDetail.acti...</td>\n",
              "      <td>Borrower added on 12/21/11 &gt; to pay for prop...</td>\n",
              "      <td>other</td>\n",
              "      <td>personel</td>\n",
              "      <td>917xx</td>\n",
              "      <td>CA</td>\n",
              "      <td>20.00</td>\n",
              "      <td>0</td>\n",
              "      <td>Feb-96</td>\n",
              "      <td>1</td>\n",
              "      <td>35.0</td>\n",
              "      <td>NaN</td>\n",
              "      <td>10</td>\n",
              "      <td>0</td>\n",
              "      <td>5598</td>\n",
              "      <td>21%</td>\n",
              "      <td>37</td>\n",
              "      <td>f</td>\n",
              "      <td>0.00</td>\n",
              "      <td>0.00</td>\n",
              "      <td>12231.890000</td>\n",
              "      <td>12231.89</td>\n",
              "      <td>10000.00</td>\n",
              "      <td>2214.92</td>\n",
              "      <td>16.97</td>\n",
              "      <td>0.00</td>\n",
              "      <td>0.00</td>\n",
              "      <td>Jan-15</td>\n",
              "      <td>357.48</td>\n",
              "      <td>NaN</td>\n",
              "      <td>Apr-16</td>\n",
              "      <td>0.0</td>\n",
              "      <td>NaN</td>\n",
              "      <td>1</td>\n",
              "      <td>INDIVIDUAL</td>\n",
              "      <td>NaN</td>\n",
              "      <td>NaN</td>\n",
              "      <td>NaN</td>\n",
              "      <td>0</td>\n",
              "      <td>NaN</td>\n",
              "      <td>NaN</td>\n",
              "      <td>NaN</td>\n",
              "      <td>NaN</td>\n",
              "      <td>NaN</td>\n",
              "      <td>NaN</td>\n",
              "      <td>NaN</td>\n",
              "      <td>NaN</td>\n",
              "      <td>NaN</td>\n",
              "      <td>NaN</td>\n",
              "      <td>NaN</td>\n",
              "      <td>NaN</td>\n",
              "      <td>NaN</td>\n",
              "      <td>NaN</td>\n",
              "      <td>NaN</td>\n",
              "      <td>NaN</td>\n",
              "      <td>NaN</td>\n",
              "      <td>NaN</td>\n",
              "      <td>NaN</td>\n",
              "      <td>NaN</td>\n",
              "      <td>NaN</td>\n",
              "      <td>0.0</td>\n",
              "      <td>0</td>\n",
              "      <td>NaN</td>\n",
              "      <td>NaN</td>\n",
              "      <td>NaN</td>\n",
              "      <td>NaN</td>\n",
              "      <td>NaN</td>\n",
              "      <td>NaN</td>\n",
              "      <td>NaN</td>\n",
              "      <td>NaN</td>\n",
              "      <td>NaN</td>\n",
              "      <td>NaN</td>\n",
              "      <td>NaN</td>\n",
              "      <td>NaN</td>\n",
              "      <td>NaN</td>\n",
              "      <td>NaN</td>\n",
              "      <td>NaN</td>\n",
              "      <td>NaN</td>\n",
              "      <td>NaN</td>\n",
              "      <td>NaN</td>\n",
              "      <td>NaN</td>\n",
              "      <td>NaN</td>\n",
              "      <td>NaN</td>\n",
              "      <td>NaN</td>\n",
              "      <td>NaN</td>\n",
              "      <td>NaN</td>\n",
              "      <td>NaN</td>\n",
              "      <td>0.0</td>\n",
              "      <td>0.0</td>\n",
              "      <td>NaN</td>\n",
              "      <td>NaN</td>\n",
              "      <td>NaN</td>\n",
              "      <td>NaN</td>\n",
              "    </tr>\n",
              "    <tr>\n",
              "      <th>4</th>\n",
              "      <td>1075358</td>\n",
              "      <td>1311748</td>\n",
              "      <td>3000</td>\n",
              "      <td>3000</td>\n",
              "      <td>3000.0</td>\n",
              "      <td>60 months</td>\n",
              "      <td>12.69%</td>\n",
              "      <td>67.79</td>\n",
              "      <td>B</td>\n",
              "      <td>B5</td>\n",
              "      <td>University Medical Group</td>\n",
              "      <td>1 year</td>\n",
              "      <td>RENT</td>\n",
              "      <td>80000.0</td>\n",
              "      <td>Source Verified</td>\n",
              "      <td>Dec-11</td>\n",
              "      <td>Current</td>\n",
              "      <td>n</td>\n",
              "      <td>https://lendingclub.com/browse/loanDetail.acti...</td>\n",
              "      <td>Borrower added on 12/21/11 &gt; I plan on combi...</td>\n",
              "      <td>other</td>\n",
              "      <td>Personal</td>\n",
              "      <td>972xx</td>\n",
              "      <td>OR</td>\n",
              "      <td>17.94</td>\n",
              "      <td>0</td>\n",
              "      <td>Jan-96</td>\n",
              "      <td>0</td>\n",
              "      <td>38.0</td>\n",
              "      <td>NaN</td>\n",
              "      <td>15</td>\n",
              "      <td>0</td>\n",
              "      <td>27783</td>\n",
              "      <td>53.90%</td>\n",
              "      <td>38</td>\n",
              "      <td>f</td>\n",
              "      <td>524.06</td>\n",
              "      <td>524.06</td>\n",
              "      <td>3513.330000</td>\n",
              "      <td>3513.33</td>\n",
              "      <td>2475.94</td>\n",
              "      <td>1037.39</td>\n",
              "      <td>0.00</td>\n",
              "      <td>0.00</td>\n",
              "      <td>0.00</td>\n",
              "      <td>May-16</td>\n",
              "      <td>67.79</td>\n",
              "      <td>Jun-16</td>\n",
              "      <td>May-16</td>\n",
              "      <td>0.0</td>\n",
              "      <td>NaN</td>\n",
              "      <td>1</td>\n",
              "      <td>INDIVIDUAL</td>\n",
              "      <td>NaN</td>\n",
              "      <td>NaN</td>\n",
              "      <td>NaN</td>\n",
              "      <td>0</td>\n",
              "      <td>NaN</td>\n",
              "      <td>NaN</td>\n",
              "      <td>NaN</td>\n",
              "      <td>NaN</td>\n",
              "      <td>NaN</td>\n",
              "      <td>NaN</td>\n",
              "      <td>NaN</td>\n",
              "      <td>NaN</td>\n",
              "      <td>NaN</td>\n",
              "      <td>NaN</td>\n",
              "      <td>NaN</td>\n",
              "      <td>NaN</td>\n",
              "      <td>NaN</td>\n",
              "      <td>NaN</td>\n",
              "      <td>NaN</td>\n",
              "      <td>NaN</td>\n",
              "      <td>NaN</td>\n",
              "      <td>NaN</td>\n",
              "      <td>NaN</td>\n",
              "      <td>NaN</td>\n",
              "      <td>NaN</td>\n",
              "      <td>0.0</td>\n",
              "      <td>0</td>\n",
              "      <td>NaN</td>\n",
              "      <td>NaN</td>\n",
              "      <td>NaN</td>\n",
              "      <td>NaN</td>\n",
              "      <td>NaN</td>\n",
              "      <td>NaN</td>\n",
              "      <td>NaN</td>\n",
              "      <td>NaN</td>\n",
              "      <td>NaN</td>\n",
              "      <td>NaN</td>\n",
              "      <td>NaN</td>\n",
              "      <td>NaN</td>\n",
              "      <td>NaN</td>\n",
              "      <td>NaN</td>\n",
              "      <td>NaN</td>\n",
              "      <td>NaN</td>\n",
              "      <td>NaN</td>\n",
              "      <td>NaN</td>\n",
              "      <td>NaN</td>\n",
              "      <td>NaN</td>\n",
              "      <td>NaN</td>\n",
              "      <td>NaN</td>\n",
              "      <td>NaN</td>\n",
              "      <td>NaN</td>\n",
              "      <td>NaN</td>\n",
              "      <td>0.0</td>\n",
              "      <td>0.0</td>\n",
              "      <td>NaN</td>\n",
              "      <td>NaN</td>\n",
              "      <td>NaN</td>\n",
              "      <td>NaN</td>\n",
              "    </tr>\n",
              "  </tbody>\n",
              "</table>\n",
              "</div>\n",
              "      <button class=\"colab-df-convert\" onclick=\"convertToInteractive('df-8dadd0b7-fbad-44a8-9c36-021f020084a6')\"\n",
              "              title=\"Convert this dataframe to an interactive table.\"\n",
              "              style=\"display:none;\">\n",
              "        \n",
              "  <svg xmlns=\"http://www.w3.org/2000/svg\" height=\"24px\"viewBox=\"0 0 24 24\"\n",
              "       width=\"24px\">\n",
              "    <path d=\"M0 0h24v24H0V0z\" fill=\"none\"/>\n",
              "    <path d=\"M18.56 5.44l.94 2.06.94-2.06 2.06-.94-2.06-.94-.94-2.06-.94 2.06-2.06.94zm-11 1L8.5 8.5l.94-2.06 2.06-.94-2.06-.94L8.5 2.5l-.94 2.06-2.06.94zm10 10l.94 2.06.94-2.06 2.06-.94-2.06-.94-.94-2.06-.94 2.06-2.06.94z\"/><path d=\"M17.41 7.96l-1.37-1.37c-.4-.4-.92-.59-1.43-.59-.52 0-1.04.2-1.43.59L10.3 9.45l-7.72 7.72c-.78.78-.78 2.05 0 2.83L4 21.41c.39.39.9.59 1.41.59.51 0 1.02-.2 1.41-.59l7.78-7.78 2.81-2.81c.8-.78.8-2.07 0-2.86zM5.41 20L4 18.59l7.72-7.72 1.47 1.35L5.41 20z\"/>\n",
              "  </svg>\n",
              "      </button>\n",
              "      \n",
              "  <style>\n",
              "    .colab-df-container {\n",
              "      display:flex;\n",
              "      flex-wrap:wrap;\n",
              "      gap: 12px;\n",
              "    }\n",
              "\n",
              "    .colab-df-convert {\n",
              "      background-color: #E8F0FE;\n",
              "      border: none;\n",
              "      border-radius: 50%;\n",
              "      cursor: pointer;\n",
              "      display: none;\n",
              "      fill: #1967D2;\n",
              "      height: 32px;\n",
              "      padding: 0 0 0 0;\n",
              "      width: 32px;\n",
              "    }\n",
              "\n",
              "    .colab-df-convert:hover {\n",
              "      background-color: #E2EBFA;\n",
              "      box-shadow: 0px 1px 2px rgba(60, 64, 67, 0.3), 0px 1px 3px 1px rgba(60, 64, 67, 0.15);\n",
              "      fill: #174EA6;\n",
              "    }\n",
              "\n",
              "    [theme=dark] .colab-df-convert {\n",
              "      background-color: #3B4455;\n",
              "      fill: #D2E3FC;\n",
              "    }\n",
              "\n",
              "    [theme=dark] .colab-df-convert:hover {\n",
              "      background-color: #434B5C;\n",
              "      box-shadow: 0px 1px 3px 1px rgba(0, 0, 0, 0.15);\n",
              "      filter: drop-shadow(0px 1px 2px rgba(0, 0, 0, 0.3));\n",
              "      fill: #FFFFFF;\n",
              "    }\n",
              "  </style>\n",
              "\n",
              "      <script>\n",
              "        const buttonEl =\n",
              "          document.querySelector('#df-8dadd0b7-fbad-44a8-9c36-021f020084a6 button.colab-df-convert');\n",
              "        buttonEl.style.display =\n",
              "          google.colab.kernel.accessAllowed ? 'block' : 'none';\n",
              "\n",
              "        async function convertToInteractive(key) {\n",
              "          const element = document.querySelector('#df-8dadd0b7-fbad-44a8-9c36-021f020084a6');\n",
              "          const dataTable =\n",
              "            await google.colab.kernel.invokeFunction('convertToInteractive',\n",
              "                                                     [key], {});\n",
              "          if (!dataTable) return;\n",
              "\n",
              "          const docLinkHtml = 'Like what you see? Visit the ' +\n",
              "            '<a target=\"_blank\" href=https://colab.research.google.com/notebooks/data_table.ipynb>data table notebook</a>'\n",
              "            + ' to learn more about interactive tables.';\n",
              "          element.innerHTML = '';\n",
              "          dataTable['output_type'] = 'display_data';\n",
              "          await google.colab.output.renderOutput(dataTable, element);\n",
              "          const docLink = document.createElement('div');\n",
              "          docLink.innerHTML = docLinkHtml;\n",
              "          element.appendChild(docLink);\n",
              "        }\n",
              "      </script>\n",
              "    </div>\n",
              "  </div>\n",
              "  "
            ],
            "text/plain": [
              "        id  member_id  loan_amnt  funded_amnt  funded_amnt_inv        term int_rate  installment grade sub_grade                 emp_title emp_length home_ownership  annual_inc verification_status issue_d  loan_status pymnt_plan                                                url                                               desc         purpose                 title zip_code addr_state    dti  delinq_2yrs earliest_cr_line  inq_last_6mths  mths_since_last_delinq  mths_since_last_record  open_acc  pub_rec  revol_bal revol_util  total_acc initial_list_status  out_prncp  out_prncp_inv   total_pymnt  total_pymnt_inv  total_rec_prncp  total_rec_int  total_rec_late_fee  recoveries  collection_recovery_fee last_pymnt_d  last_pymnt_amnt next_pymnt_d last_credit_pull_d  collections_12_mths_ex_med  mths_since_last_major_derog  policy_code application_type  annual_inc_joint  dti_joint  verification_status_joint  acc_now_delinq  tot_coll_amt  tot_cur_bal  open_acc_6m  open_il_6m  open_il_12m  \\\n",
              "0  1077501    1296599       5000         5000           4975.0   36 months   10.65%       162.87     B        B2                       NaN  10+ years           RENT     24000.0            Verified  Dec-11   Fully Paid          n  https://lendingclub.com/browse/loanDetail.acti...    Borrower added on 12/22/11 > I need to upgra...     credit_card              Computer    860xx         AZ  27.65            0           Jan-85               1                     NaN                     NaN         3        0      13648     83.70%          9                   f       0.00           0.00   5863.155187          5833.84          5000.00         863.16                0.00        0.00                     0.00       Jan-15           171.62          NaN             May-16                         0.0                          NaN            1       INDIVIDUAL               NaN        NaN                        NaN               0           NaN          NaN          NaN         NaN          NaN   \n",
              "1  1077430    1314167       2500         2500           2500.0   60 months   15.27%        59.83     C        C4                     Ryder   < 1 year           RENT     30000.0     Source Verified  Dec-11  Charged Off          n  https://lendingclub.com/browse/loanDetail.acti...    Borrower added on 12/22/11 > I plan to use t...             car                  bike    309xx         GA   1.00            0           Apr-99               5                     NaN                     NaN         3        0       1687      9.40%          4                   f       0.00           0.00   1008.710000          1008.71           456.46         435.17                0.00      117.08                     1.11       Apr-13           119.66          NaN             Sep-13                         0.0                          NaN            1       INDIVIDUAL               NaN        NaN                        NaN               0           NaN          NaN          NaN         NaN          NaN   \n",
              "2  1077175    1313524       2400         2400           2400.0   36 months   15.96%        84.33     C        C5                       NaN  10+ years           RENT     12252.0        Not Verified  Dec-11   Fully Paid          n  https://lendingclub.com/browse/loanDetail.acti...                                                NaN  small_business  real estate business    606xx         IL   8.72            0           Nov-01               2                     NaN                     NaN         2        0       2956     98.50%         10                   f       0.00           0.00   3005.666844          3005.67          2400.00         605.67                0.00        0.00                     0.00       Jun-14           649.91          NaN             May-16                         0.0                          NaN            1       INDIVIDUAL               NaN        NaN                        NaN               0           NaN          NaN          NaN         NaN          NaN   \n",
              "3  1076863    1277178      10000        10000          10000.0   36 months   13.49%       339.31     C        C1       AIR RESOURCES BOARD  10+ years           RENT     49200.0     Source Verified  Dec-11   Fully Paid          n  https://lendingclub.com/browse/loanDetail.acti...    Borrower added on 12/21/11 > to pay for prop...           other              personel    917xx         CA  20.00            0           Feb-96               1                    35.0                     NaN        10        0       5598        21%         37                   f       0.00           0.00  12231.890000         12231.89         10000.00        2214.92               16.97        0.00                     0.00       Jan-15           357.48          NaN             Apr-16                         0.0                          NaN            1       INDIVIDUAL               NaN        NaN                        NaN               0           NaN          NaN          NaN         NaN          NaN   \n",
              "4  1075358    1311748       3000         3000           3000.0   60 months   12.69%        67.79     B        B5  University Medical Group     1 year           RENT     80000.0     Source Verified  Dec-11      Current          n  https://lendingclub.com/browse/loanDetail.acti...    Borrower added on 12/21/11 > I plan on combi...           other              Personal    972xx         OR  17.94            0           Jan-96               0                    38.0                     NaN        15        0      27783     53.90%         38                   f     524.06         524.06   3513.330000          3513.33          2475.94        1037.39                0.00        0.00                     0.00       May-16            67.79       Jun-16             May-16                         0.0                          NaN            1       INDIVIDUAL               NaN        NaN                        NaN               0           NaN          NaN          NaN         NaN          NaN   \n",
              "\n",
              "   open_il_24m  mths_since_rcnt_il  total_bal_il  il_util  open_rv_12m  open_rv_24m  max_bal_bc  all_util  total_rev_hi_lim  inq_fi  total_cu_tl  inq_last_12m  acc_open_past_24mths  avg_cur_bal  bc_open_to_buy  bc_util  chargeoff_within_12_mths  delinq_amnt  mo_sin_old_il_acct  mo_sin_old_rev_tl_op  mo_sin_rcnt_rev_tl_op  mo_sin_rcnt_tl  mort_acc  mths_since_recent_bc  mths_since_recent_bc_dlq  mths_since_recent_inq  mths_since_recent_revol_delinq  num_accts_ever_120_pd  num_actv_bc_tl  num_actv_rev_tl  num_bc_sats  num_bc_tl  num_il_tl  num_op_rev_tl  num_rev_accts  num_rev_tl_bal_gt_0  num_sats  num_tl_120dpd_2m  num_tl_30dpd  num_tl_90g_dpd_24m  num_tl_op_past_12m  pct_tl_nvr_dlq  percent_bc_gt_75  pub_rec_bankruptcies  tax_liens  tot_hi_cred_lim  total_bal_ex_mort  total_bc_limit  total_il_high_credit_limit  \n",
              "0          NaN                 NaN           NaN      NaN          NaN          NaN         NaN       NaN               NaN     NaN          NaN           NaN                   NaN          NaN             NaN      NaN                       0.0            0                 NaN                   NaN                    NaN             NaN       NaN                   NaN                       NaN                    NaN                             NaN                    NaN             NaN              NaN          NaN        NaN        NaN            NaN            NaN                  NaN       NaN               NaN           NaN                 NaN                 NaN             NaN               NaN                   0.0        0.0              NaN                NaN             NaN                         NaN  \n",
              "1          NaN                 NaN           NaN      NaN          NaN          NaN         NaN       NaN               NaN     NaN          NaN           NaN                   NaN          NaN             NaN      NaN                       0.0            0                 NaN                   NaN                    NaN             NaN       NaN                   NaN                       NaN                    NaN                             NaN                    NaN             NaN              NaN          NaN        NaN        NaN            NaN            NaN                  NaN       NaN               NaN           NaN                 NaN                 NaN             NaN               NaN                   0.0        0.0              NaN                NaN             NaN                         NaN  \n",
              "2          NaN                 NaN           NaN      NaN          NaN          NaN         NaN       NaN               NaN     NaN          NaN           NaN                   NaN          NaN             NaN      NaN                       0.0            0                 NaN                   NaN                    NaN             NaN       NaN                   NaN                       NaN                    NaN                             NaN                    NaN             NaN              NaN          NaN        NaN        NaN            NaN            NaN                  NaN       NaN               NaN           NaN                 NaN                 NaN             NaN               NaN                   0.0        0.0              NaN                NaN             NaN                         NaN  \n",
              "3          NaN                 NaN           NaN      NaN          NaN          NaN         NaN       NaN               NaN     NaN          NaN           NaN                   NaN          NaN             NaN      NaN                       0.0            0                 NaN                   NaN                    NaN             NaN       NaN                   NaN                       NaN                    NaN                             NaN                    NaN             NaN              NaN          NaN        NaN        NaN            NaN            NaN                  NaN       NaN               NaN           NaN                 NaN                 NaN             NaN               NaN                   0.0        0.0              NaN                NaN             NaN                         NaN  \n",
              "4          NaN                 NaN           NaN      NaN          NaN          NaN         NaN       NaN               NaN     NaN          NaN           NaN                   NaN          NaN             NaN      NaN                       0.0            0                 NaN                   NaN                    NaN             NaN       NaN                   NaN                       NaN                    NaN                             NaN                    NaN             NaN              NaN          NaN        NaN        NaN            NaN            NaN                  NaN       NaN               NaN           NaN                 NaN                 NaN             NaN               NaN                   0.0        0.0              NaN                NaN             NaN                         NaN  "
            ]
          },
          "metadata": {},
          "execution_count": 7
        }
      ],
      "source": [
        "#sample the dataframe\n",
        "loan.head(5)"
      ]
    },
    {
      "cell_type": "code",
      "execution_count": 8,
      "metadata": {
        "colab": {
          "base_uri": "https://localhost:8080/"
        },
        "id": "fpBKO9CDeJED",
        "outputId": "54a197de-c68a-4340-befc-d65daa5b81df"
      },
      "outputs": [
        {
          "output_type": "stream",
          "name": "stdout",
          "text": [
            "id                                39717\n",
            "member_id                         39717\n",
            "loan_amnt                           885\n",
            "funded_amnt                        1041\n",
            "funded_amnt_inv                    8205\n",
            "term                                  2\n",
            "int_rate                            371\n",
            "installment                       15383\n",
            "grade                                 7\n",
            "sub_grade                            35\n",
            "emp_title                         28820\n",
            "emp_length                           11\n",
            "home_ownership                        5\n",
            "annual_inc                         5318\n",
            "verification_status                   3\n",
            "issue_d                              55\n",
            "loan_status                           3\n",
            "pymnt_plan                            1\n",
            "url                               39717\n",
            "desc                              26527\n",
            "purpose                              14\n",
            "title                             19615\n",
            "zip_code                            823\n",
            "addr_state                           50\n",
            "dti                                2868\n",
            "delinq_2yrs                          11\n",
            "earliest_cr_line                    526\n",
            "inq_last_6mths                        9\n",
            "mths_since_last_delinq               95\n",
            "mths_since_last_record              111\n",
            "open_acc                             40\n",
            "pub_rec                               5\n",
            "revol_bal                         21711\n",
            "revol_util                         1089\n",
            "total_acc                            82\n",
            "initial_list_status                   1\n",
            "out_prncp                          1137\n",
            "out_prncp_inv                      1138\n",
            "total_pymnt                       37850\n",
            "total_pymnt_inv                   37518\n",
            "total_rec_prncp                    7976\n",
            "total_rec_int                     35148\n",
            "total_rec_late_fee                 1356\n",
            "recoveries                         4040\n",
            "collection_recovery_fee            2616\n",
            "last_pymnt_d                        101\n",
            "last_pymnt_amnt                   34930\n",
            "next_pymnt_d                          2\n",
            "last_credit_pull_d                  106\n",
            "collections_12_mths_ex_med            1\n",
            "mths_since_last_major_derog           0\n",
            "policy_code                           1\n",
            "application_type                      1\n",
            "annual_inc_joint                      0\n",
            "dti_joint                             0\n",
            "verification_status_joint             0\n",
            "acc_now_delinq                        1\n",
            "tot_coll_amt                          0\n",
            "tot_cur_bal                           0\n",
            "open_acc_6m                           0\n",
            "open_il_6m                            0\n",
            "open_il_12m                           0\n",
            "open_il_24m                           0\n",
            "mths_since_rcnt_il                    0\n",
            "total_bal_il                          0\n",
            "il_util                               0\n",
            "open_rv_12m                           0\n",
            "open_rv_24m                           0\n",
            "max_bal_bc                            0\n",
            "all_util                              0\n",
            "total_rev_hi_lim                      0\n",
            "inq_fi                                0\n",
            "total_cu_tl                           0\n",
            "inq_last_12m                          0\n",
            "acc_open_past_24mths                  0\n",
            "avg_cur_bal                           0\n",
            "bc_open_to_buy                        0\n",
            "bc_util                               0\n",
            "chargeoff_within_12_mths              1\n",
            "delinq_amnt                           1\n",
            "mo_sin_old_il_acct                    0\n",
            "mo_sin_old_rev_tl_op                  0\n",
            "mo_sin_rcnt_rev_tl_op                 0\n",
            "mo_sin_rcnt_tl                        0\n",
            "mort_acc                              0\n",
            "mths_since_recent_bc                  0\n",
            "mths_since_recent_bc_dlq              0\n",
            "mths_since_recent_inq                 0\n",
            "mths_since_recent_revol_delinq        0\n",
            "num_accts_ever_120_pd                 0\n",
            "num_actv_bc_tl                        0\n",
            "num_actv_rev_tl                       0\n",
            "num_bc_sats                           0\n",
            "num_bc_tl                             0\n",
            "num_il_tl                             0\n",
            "num_op_rev_tl                         0\n",
            "num_rev_accts                         0\n",
            "num_rev_tl_bal_gt_0                   0\n",
            "num_sats                              0\n",
            "num_tl_120dpd_2m                      0\n",
            "num_tl_30dpd                          0\n",
            "num_tl_90g_dpd_24m                    0\n",
            "num_tl_op_past_12m                    0\n",
            "pct_tl_nvr_dlq                        0\n",
            "percent_bc_gt_75                      0\n",
            "pub_rec_bankruptcies                  3\n",
            "tax_liens                             1\n",
            "tot_hi_cred_lim                       0\n",
            "total_bal_ex_mort                     0\n",
            "total_bc_limit                        0\n",
            "total_il_high_credit_limit            0\n",
            "dtype: int64\n"
          ]
        }
      ],
      "source": [
        "#get list of unique variables per column\n",
        "print(loan.nunique())\n"
      ]
    },
    {
      "cell_type": "code",
      "execution_count": 9,
      "metadata": {
        "colab": {
          "base_uri": "https://localhost:8080/"
        },
        "id": "OhFp9nHJeJEE",
        "outputId": "f0f51713-5d44-45fc-be13-5c50a2ca18d3"
      },
      "outputs": [
        {
          "output_type": "execute_result",
          "data": {
            "text/plain": [
              "id                                39717\n",
              "member_id                         39717\n",
              "loan_amnt                         39717\n",
              "funded_amnt                       39717\n",
              "funded_amnt_inv                   39717\n",
              "term                              39717\n",
              "int_rate                          39717\n",
              "installment                       39717\n",
              "grade                             39717\n",
              "sub_grade                         39717\n",
              "emp_title                         37258\n",
              "emp_length                        38642\n",
              "home_ownership                    39717\n",
              "annual_inc                        39717\n",
              "verification_status               39717\n",
              "issue_d                           39717\n",
              "loan_status                       39717\n",
              "pymnt_plan                        39717\n",
              "url                               39717\n",
              "desc                              26777\n",
              "purpose                           39717\n",
              "title                             39706\n",
              "zip_code                          39717\n",
              "addr_state                        39717\n",
              "dti                               39717\n",
              "delinq_2yrs                       39717\n",
              "earliest_cr_line                  39717\n",
              "inq_last_6mths                    39717\n",
              "mths_since_last_delinq            14035\n",
              "mths_since_last_record             2786\n",
              "open_acc                          39717\n",
              "pub_rec                           39717\n",
              "revol_bal                         39717\n",
              "revol_util                        39667\n",
              "total_acc                         39717\n",
              "initial_list_status               39717\n",
              "out_prncp                         39717\n",
              "out_prncp_inv                     39717\n",
              "total_pymnt                       39717\n",
              "total_pymnt_inv                   39717\n",
              "total_rec_prncp                   39717\n",
              "total_rec_int                     39717\n",
              "total_rec_late_fee                39717\n",
              "recoveries                        39717\n",
              "collection_recovery_fee           39717\n",
              "last_pymnt_d                      39646\n",
              "last_pymnt_amnt                   39717\n",
              "next_pymnt_d                       1140\n",
              "last_credit_pull_d                39715\n",
              "collections_12_mths_ex_med        39661\n",
              "mths_since_last_major_derog           0\n",
              "policy_code                       39717\n",
              "application_type                  39717\n",
              "annual_inc_joint                      0\n",
              "dti_joint                             0\n",
              "verification_status_joint             0\n",
              "acc_now_delinq                    39717\n",
              "tot_coll_amt                          0\n",
              "tot_cur_bal                           0\n",
              "open_acc_6m                           0\n",
              "open_il_6m                            0\n",
              "open_il_12m                           0\n",
              "open_il_24m                           0\n",
              "mths_since_rcnt_il                    0\n",
              "total_bal_il                          0\n",
              "il_util                               0\n",
              "open_rv_12m                           0\n",
              "open_rv_24m                           0\n",
              "max_bal_bc                            0\n",
              "all_util                              0\n",
              "total_rev_hi_lim                      0\n",
              "inq_fi                                0\n",
              "total_cu_tl                           0\n",
              "inq_last_12m                          0\n",
              "acc_open_past_24mths                  0\n",
              "avg_cur_bal                           0\n",
              "bc_open_to_buy                        0\n",
              "bc_util                               0\n",
              "chargeoff_within_12_mths          39661\n",
              "delinq_amnt                       39717\n",
              "mo_sin_old_il_acct                    0\n",
              "mo_sin_old_rev_tl_op                  0\n",
              "mo_sin_rcnt_rev_tl_op                 0\n",
              "mo_sin_rcnt_tl                        0\n",
              "mort_acc                              0\n",
              "mths_since_recent_bc                  0\n",
              "mths_since_recent_bc_dlq              0\n",
              "mths_since_recent_inq                 0\n",
              "mths_since_recent_revol_delinq        0\n",
              "num_accts_ever_120_pd                 0\n",
              "num_actv_bc_tl                        0\n",
              "num_actv_rev_tl                       0\n",
              "num_bc_sats                           0\n",
              "num_bc_tl                             0\n",
              "num_il_tl                             0\n",
              "num_op_rev_tl                         0\n",
              "num_rev_accts                         0\n",
              "num_rev_tl_bal_gt_0                   0\n",
              "num_sats                              0\n",
              "num_tl_120dpd_2m                      0\n",
              "num_tl_30dpd                          0\n",
              "num_tl_90g_dpd_24m                    0\n",
              "num_tl_op_past_12m                    0\n",
              "pct_tl_nvr_dlq                        0\n",
              "percent_bc_gt_75                      0\n",
              "pub_rec_bankruptcies              39020\n",
              "tax_liens                         39678\n",
              "tot_hi_cred_lim                       0\n",
              "total_bal_ex_mort                     0\n",
              "total_bc_limit                        0\n",
              "total_il_high_credit_limit            0\n",
              "dtype: int64"
            ]
          },
          "metadata": {},
          "execution_count": 9
        }
      ],
      "source": [
        "# get count of non-na values across all columns\n",
        "loan.apply(lambda x: x.count(), axis=0)"
      ]
    },
    {
      "cell_type": "markdown",
      "metadata": {
        "id": "O4ulqVOKeJEE"
      },
      "source": [
        "### Start cleaning the data"
      ]
    },
    {
      "cell_type": "code",
      "execution_count": 10,
      "metadata": {
        "colab": {
          "base_uri": "https://localhost:8080/"
        },
        "id": "7kbxh_Q_eJEE",
        "outputId": "eb491085-b424-47da-da5b-1d3c72f460a1"
      },
      "outputs": [
        {
          "output_type": "execute_result",
          "data": {
            "text/plain": [
              "0"
            ]
          },
          "metadata": {},
          "execution_count": 10
        }
      ],
      "source": [
        "#check if data has more than one loan per customer\n",
        "loan.member_id.value_counts().sum()-loan.id.count()\n",
        "## The data base has one unique loan per customer"
      ]
    },
    {
      "cell_type": "markdown",
      "metadata": {
        "id": "z2r6WVUBeJEF"
      },
      "source": [
        "##### Create individual dataframes based on loan status"
      ]
    },
    {
      "cell_type": "code",
      "execution_count": 11,
      "metadata": {
        "colab": {
          "base_uri": "https://localhost:8080/"
        },
        "id": "GHNgZNy9eJEF",
        "outputId": "9fb3a021-6443-474d-ae4c-1ed7f8ce20e3"
      },
      "outputs": [
        {
          "output_type": "execute_result",
          "data": {
            "text/plain": [
              "Fully Paid     32950\n",
              "Charged Off     5627\n",
              "Current         1140\n",
              "Name: loan_status, dtype: int64"
            ]
          },
          "metadata": {},
          "execution_count": 11
        }
      ],
      "source": [
        "#get list of loan statuses\n",
        "loan.loan_status.value_counts()"
      ]
    },
    {
      "cell_type": "code",
      "execution_count": 12,
      "metadata": {
        "id": "PsQZGUcseJEF"
      },
      "outputs": [],
      "source": [
        "#drop all columns where count is zero\n",
        "loan.dropna(how='all', axis=1, inplace=True)\n",
        "#drop all columns where number of unique values is only one\n",
        "for col in loan.columns:\n",
        "    if (loan[col].nunique()==1):\n",
        "        loan.drop([col], axis = 1,inplace=True)\n"
      ]
    },
    {
      "cell_type": "code",
      "execution_count": 13,
      "metadata": {
        "id": "Ei7DTzNEeJEG"
      },
      "outputs": [],
      "source": [
        "#drop columns as there are substantial amount of na values or data that cannot be statistically analysed easily\n",
        "#url                    - Redundant for analysis\n",
        "#desc                   - Too much of textual data for meaningful statistical analysis. \n",
        "#id                     - not relevant for analysis\n",
        "#member_id              - not relevant for analysis\n",
        "#loan_amnt              - Redundant for analysis\n",
        "#funded_amnt            - Redundant for analysis\n",
        "#title                  - Too much of textual data for meaningful statistical analysis.\n",
        "#emp_title              - Too much of textual data for meaningful statistical analysis.\n",
        "#mths_since_last_record - behaviourial data, not relevant for analysis\n",
        "#mths_since_last_delinq - behaviourial data, not relevant for analysis\n",
        "#next_pymnt_d           - behaviourial data, not relevant for analysis\n",
        "#delinq_2yrs            - data not generated at the time of application\n",
        "#total_pymnt            - data not available at the time of application\n",
        "#total_pymnt_inv        - data not available at the time of application\n",
        "#total_rec_prncp        - data not available at the time of application\n",
        "#total_rec_int          - data not available at the time of application\n",
        "#total_rec_late_fee     - data not available at the time of application\n",
        "#recoveries             - data not available at the time of application\n",
        "#collection_recovery_fee- data not available at the time of application\n",
        "#last_pymnt_d           - data not available at the time of application\n",
        "#last_pymnt_amnt        - data not available at the time of application\n",
        "#last_credit_pull_d     - data not available at the time of application"
      ]
    },
    {
      "cell_type": "code",
      "execution_count": 14,
      "metadata": {
        "id": "Qxa8wHi-eJEG"
      },
      "outputs": [],
      "source": [
        "loan.drop(['url','desc','id','member_id','loan_amnt','funded_amnt','title','emp_title','mths_since_last_record','mths_since_last_delinq','next_pymnt_d','delinq_2yrs','total_pymnt','total_pymnt_inv','total_rec_prncp','total_rec_int','total_rec_late_fee','recoveries','collection_recovery_fee','last_pymnt_d','last_pymnt_amnt','last_credit_pull_d'], axis = 1,inplace=True)\n"
      ]
    },
    {
      "cell_type": "code",
      "execution_count": 15,
      "metadata": {
        "scrolled": true,
        "colab": {
          "base_uri": "https://localhost:8080/"
        },
        "id": "kdBlOlcweJEH",
        "outputId": "ca18ca28-53bc-4868-e103-b11de0b648f5"
      },
      "outputs": [
        {
          "output_type": "execute_result",
          "data": {
            "text/plain": [
              "funded_amnt_inv         39717\n",
              "term                    39717\n",
              "int_rate                39717\n",
              "installment             39717\n",
              "grade                   39717\n",
              "sub_grade               39717\n",
              "emp_length              38642\n",
              "home_ownership          39717\n",
              "annual_inc              39717\n",
              "verification_status     39717\n",
              "issue_d                 39717\n",
              "loan_status             39717\n",
              "purpose                 39717\n",
              "zip_code                39717\n",
              "addr_state              39717\n",
              "dti                     39717\n",
              "earliest_cr_line        39717\n",
              "inq_last_6mths          39717\n",
              "open_acc                39717\n",
              "pub_rec                 39717\n",
              "revol_bal               39717\n",
              "revol_util              39667\n",
              "total_acc               39717\n",
              "out_prncp               39717\n",
              "out_prncp_inv           39717\n",
              "pub_rec_bankruptcies    39020\n",
              "dtype: int64"
            ]
          },
          "metadata": {},
          "execution_count": 15
        }
      ],
      "source": [
        "loan.apply(lambda x: x.count(), axis=0)"
      ]
    },
    {
      "cell_type": "markdown",
      "metadata": {
        "id": "6Rx8acwPeJEH"
      },
      "source": [
        "#### Start Cleaning actual data within columns"
      ]
    },
    {
      "cell_type": "code",
      "execution_count": 16,
      "metadata": {
        "id": "c0JhqJD5eJEH"
      },
      "outputs": [],
      "source": [
        "#check term column\n",
        "loan.term.value_counts()\n",
        "#remove the text month and convert the column to int\n",
        "loan.term=loan.term.apply(lambda x : int(x.replace(\" months\", \"\")))\n",
        "#check again\n",
        "loan.term.value_counts()\n",
        "\n",
        "#remove the percentage sign and convert the column to float\n",
        "loan.int_rate=loan.int_rate.apply(lambda x : float(x.replace(\"%\", \"\")))\n",
        "loan.revol_util=loan.revol_util.apply(lambda x : float(str(x).replace(\"%\", \"\"))) # giving an error due to float, hence the string conversion\n",
        "#pandas convert datetime fileds \n",
        "loan['issue_d'] = pd.to_datetime(loan['issue_d'], format='%b-%y') #date is in Dec-11 format\n",
        "loan['earliest_cr_line'] = pd.to_datetime(loan['earliest_cr_line'], format='%b-%y') #date is in Dec-11 format"
      ]
    },
    {
      "cell_type": "code",
      "source": [
        "#split date fields for better analysis\n",
        "loan['issue_d_month']=pd.DatetimeIndex(loan['issue_d']).month\n",
        "loan['issue_d_year']=pd.DatetimeIndex(loan['issue_d']).year"
      ],
      "metadata": {
        "id": "nGG4cj9jNsoM"
      },
      "execution_count": 128,
      "outputs": []
    },
    {
      "cell_type": "code",
      "source": [
        "#split date fields for better analysis\n",
        "loan['earliest_cr_line_month']=pd.DatetimeIndex(loan['earliest_cr_line']).month\n",
        "loan['earliest_cr_line_year']=pd.DatetimeIndex(loan['earliest_cr_line']).year"
      ],
      "metadata": {
        "id": "IpCYhzbsOBrs"
      },
      "execution_count": 129,
      "outputs": []
    },
    {
      "cell_type": "code",
      "execution_count": 17,
      "metadata": {
        "id": "tJl3iqzVeJEI"
      },
      "outputs": [],
      "source": [
        "#delete all rows where loan status is current\n",
        "loan=loan[(loan.loan_status!=\"Current\")]"
      ]
    },
    {
      "cell_type": "code",
      "execution_count": 18,
      "metadata": {
        "id": "zlv6U0p3eJEI",
        "colab": {
          "base_uri": "https://localhost:8080/"
        },
        "outputId": "16c92e0f-d656-4643-bb9d-7cc8e9394b8d"
      },
      "outputs": [
        {
          "output_type": "stream",
          "name": "stderr",
          "text": [
            "/usr/local/lib/python3.7/dist-packages/pandas/core/generic.py:5516: SettingWithCopyWarning: \n",
            "A value is trying to be set on a copy of a slice from a DataFrame.\n",
            "Try using .loc[row_indexer,col_indexer] = value instead\n",
            "\n",
            "See the caveats in the documentation: https://pandas.pydata.org/pandas-docs/stable/user_guide/indexing.html#returning-a-view-versus-a-copy\n",
            "  self[name] = value\n"
          ]
        }
      ],
      "source": [
        "#check emplouyment length field and alterdata for meaningful statistical analyis\n",
        "loan.emp_length.value_counts()                 \n",
        "#remove the text years\n",
        "loan.emp_length=loan.emp_length.apply(lambda x : str(x).replace(\" years\", \"\"))\n",
        "loan.emp_length=loan.emp_length.apply(lambda x : str(x).replace(\" year\", \"\"))\n",
        "loan.emp_length=loan.emp_length.apply(lambda x : str(x).replace(\"10+\", \"10\"))\n",
        "loan.emp_length=loan.emp_length.apply(lambda x : str(x).replace(\"< 1\", \"0\"))\n"
      ]
    },
    {
      "cell_type": "code",
      "execution_count": 19,
      "metadata": {
        "id": "0paeJeaYeJEJ"
      },
      "outputs": [],
      "source": [
        "#convert loan_status to a binary value column\n",
        "loan.loan_status=loan.loan_status.apply(lambda x : 1 if x==\"Fully Paid\" else 0)"
      ]
    },
    {
      "cell_type": "code",
      "execution_count": 20,
      "metadata": {
        "colab": {
          "base_uri": "https://localhost:8080/"
        },
        "id": "rRbS4k57eJEJ",
        "outputId": "87840504-e055-4130-fe36-e028d544d217"
      },
      "outputs": [
        {
          "output_type": "stream",
          "name": "stdout",
          "text": [
            "funded_amnt_inv          8050\n",
            "term                        2\n",
            "int_rate                  370\n",
            "installment             15022\n",
            "grade                       7\n",
            "sub_grade                  35\n",
            "emp_length                 12\n",
            "home_ownership              5\n",
            "annual_inc               5215\n",
            "verification_status         3\n",
            "issue_d                    55\n",
            "loan_status                 2\n",
            "purpose                    14\n",
            "zip_code                  822\n",
            "addr_state                 50\n",
            "dti                      2853\n",
            "earliest_cr_line          524\n",
            "inq_last_6mths              9\n",
            "open_acc                   40\n",
            "pub_rec                     5\n",
            "revol_bal               21275\n",
            "revol_util               1088\n",
            "total_acc                  82\n",
            "out_prncp                   1\n",
            "out_prncp_inv               1\n",
            "pub_rec_bankruptcies        3\n",
            "dtype: int64\n"
          ]
        }
      ],
      "source": [
        "print(loan.nunique())"
      ]
    },
    {
      "cell_type": "code",
      "execution_count": 21,
      "metadata": {
        "id": "XFWCe34AeJEJ"
      },
      "outputs": [],
      "source": [
        "#create sub dataframe based on loan status filter\n",
        "loan_fully_paid=loan[(loan.loan_status==1)]\n",
        "loan_charged_off=loan[(loan.loan_status==0)]\n"
      ]
    },
    {
      "cell_type": "markdown",
      "metadata": {
        "id": "MMF1yTUqeJEK"
      },
      "source": [
        "### Undertake analysis"
      ]
    },
    {
      "cell_type": "code",
      "execution_count": 22,
      "metadata": {
        "colab": {
          "base_uri": "https://localhost:8080/",
          "height": 357
        },
        "id": "XA6An3CbeJEK",
        "outputId": "daf36119-97d8-4c04-ce53-60103c6b01d8"
      },
      "outputs": [
        {
          "output_type": "execute_result",
          "data": {
            "text/html": [
              "\n",
              "  <div id=\"df-1abcf345-5dca-46ac-a30e-0831de04e97c\">\n",
              "    <div class=\"colab-df-container\">\n",
              "      <div>\n",
              "<style scoped>\n",
              "    .dataframe tbody tr th:only-of-type {\n",
              "        vertical-align: middle;\n",
              "    }\n",
              "\n",
              "    .dataframe tbody tr th {\n",
              "        vertical-align: top;\n",
              "    }\n",
              "\n",
              "    .dataframe thead th {\n",
              "        text-align: right;\n",
              "    }\n",
              "</style>\n",
              "<table border=\"1\" class=\"dataframe\">\n",
              "  <thead>\n",
              "    <tr style=\"text-align: right;\">\n",
              "      <th></th>\n",
              "      <th>funded_amnt_inv</th>\n",
              "      <th>term</th>\n",
              "      <th>int_rate</th>\n",
              "      <th>installment</th>\n",
              "      <th>grade</th>\n",
              "      <th>sub_grade</th>\n",
              "      <th>emp_length</th>\n",
              "      <th>home_ownership</th>\n",
              "      <th>annual_inc</th>\n",
              "      <th>verification_status</th>\n",
              "      <th>issue_d</th>\n",
              "      <th>loan_status</th>\n",
              "      <th>purpose</th>\n",
              "      <th>zip_code</th>\n",
              "      <th>addr_state</th>\n",
              "      <th>dti</th>\n",
              "      <th>earliest_cr_line</th>\n",
              "      <th>inq_last_6mths</th>\n",
              "      <th>open_acc</th>\n",
              "      <th>pub_rec</th>\n",
              "      <th>revol_bal</th>\n",
              "      <th>revol_util</th>\n",
              "      <th>total_acc</th>\n",
              "      <th>out_prncp</th>\n",
              "      <th>out_prncp_inv</th>\n",
              "      <th>pub_rec_bankruptcies</th>\n",
              "    </tr>\n",
              "  </thead>\n",
              "  <tbody>\n",
              "    <tr>\n",
              "      <th>0</th>\n",
              "      <td>4975.0</td>\n",
              "      <td>36</td>\n",
              "      <td>10.65</td>\n",
              "      <td>162.87</td>\n",
              "      <td>B</td>\n",
              "      <td>B2</td>\n",
              "      <td>10</td>\n",
              "      <td>RENT</td>\n",
              "      <td>24000.0</td>\n",
              "      <td>Verified</td>\n",
              "      <td>2011-12-01</td>\n",
              "      <td>1</td>\n",
              "      <td>credit_card</td>\n",
              "      <td>860xx</td>\n",
              "      <td>AZ</td>\n",
              "      <td>27.65</td>\n",
              "      <td>1985-01-01</td>\n",
              "      <td>1</td>\n",
              "      <td>3</td>\n",
              "      <td>0</td>\n",
              "      <td>13648</td>\n",
              "      <td>83.7</td>\n",
              "      <td>9</td>\n",
              "      <td>0.0</td>\n",
              "      <td>0.0</td>\n",
              "      <td>0.0</td>\n",
              "    </tr>\n",
              "    <tr>\n",
              "      <th>1</th>\n",
              "      <td>2500.0</td>\n",
              "      <td>60</td>\n",
              "      <td>15.27</td>\n",
              "      <td>59.83</td>\n",
              "      <td>C</td>\n",
              "      <td>C4</td>\n",
              "      <td>0</td>\n",
              "      <td>RENT</td>\n",
              "      <td>30000.0</td>\n",
              "      <td>Source Verified</td>\n",
              "      <td>2011-12-01</td>\n",
              "      <td>0</td>\n",
              "      <td>car</td>\n",
              "      <td>309xx</td>\n",
              "      <td>GA</td>\n",
              "      <td>1.00</td>\n",
              "      <td>1999-04-01</td>\n",
              "      <td>5</td>\n",
              "      <td>3</td>\n",
              "      <td>0</td>\n",
              "      <td>1687</td>\n",
              "      <td>9.4</td>\n",
              "      <td>4</td>\n",
              "      <td>0.0</td>\n",
              "      <td>0.0</td>\n",
              "      <td>0.0</td>\n",
              "    </tr>\n",
              "    <tr>\n",
              "      <th>2</th>\n",
              "      <td>2400.0</td>\n",
              "      <td>36</td>\n",
              "      <td>15.96</td>\n",
              "      <td>84.33</td>\n",
              "      <td>C</td>\n",
              "      <td>C5</td>\n",
              "      <td>10</td>\n",
              "      <td>RENT</td>\n",
              "      <td>12252.0</td>\n",
              "      <td>Not Verified</td>\n",
              "      <td>2011-12-01</td>\n",
              "      <td>1</td>\n",
              "      <td>small_business</td>\n",
              "      <td>606xx</td>\n",
              "      <td>IL</td>\n",
              "      <td>8.72</td>\n",
              "      <td>2001-11-01</td>\n",
              "      <td>2</td>\n",
              "      <td>2</td>\n",
              "      <td>0</td>\n",
              "      <td>2956</td>\n",
              "      <td>98.5</td>\n",
              "      <td>10</td>\n",
              "      <td>0.0</td>\n",
              "      <td>0.0</td>\n",
              "      <td>0.0</td>\n",
              "    </tr>\n",
              "    <tr>\n",
              "      <th>3</th>\n",
              "      <td>10000.0</td>\n",
              "      <td>36</td>\n",
              "      <td>13.49</td>\n",
              "      <td>339.31</td>\n",
              "      <td>C</td>\n",
              "      <td>C1</td>\n",
              "      <td>10</td>\n",
              "      <td>RENT</td>\n",
              "      <td>49200.0</td>\n",
              "      <td>Source Verified</td>\n",
              "      <td>2011-12-01</td>\n",
              "      <td>1</td>\n",
              "      <td>other</td>\n",
              "      <td>917xx</td>\n",
              "      <td>CA</td>\n",
              "      <td>20.00</td>\n",
              "      <td>1996-02-01</td>\n",
              "      <td>1</td>\n",
              "      <td>10</td>\n",
              "      <td>0</td>\n",
              "      <td>5598</td>\n",
              "      <td>21.0</td>\n",
              "      <td>37</td>\n",
              "      <td>0.0</td>\n",
              "      <td>0.0</td>\n",
              "      <td>0.0</td>\n",
              "    </tr>\n",
              "    <tr>\n",
              "      <th>5</th>\n",
              "      <td>5000.0</td>\n",
              "      <td>36</td>\n",
              "      <td>7.90</td>\n",
              "      <td>156.46</td>\n",
              "      <td>A</td>\n",
              "      <td>A4</td>\n",
              "      <td>3</td>\n",
              "      <td>RENT</td>\n",
              "      <td>36000.0</td>\n",
              "      <td>Source Verified</td>\n",
              "      <td>2011-12-01</td>\n",
              "      <td>1</td>\n",
              "      <td>wedding</td>\n",
              "      <td>852xx</td>\n",
              "      <td>AZ</td>\n",
              "      <td>11.20</td>\n",
              "      <td>2004-11-01</td>\n",
              "      <td>3</td>\n",
              "      <td>9</td>\n",
              "      <td>0</td>\n",
              "      <td>7963</td>\n",
              "      <td>28.3</td>\n",
              "      <td>12</td>\n",
              "      <td>0.0</td>\n",
              "      <td>0.0</td>\n",
              "      <td>0.0</td>\n",
              "    </tr>\n",
              "  </tbody>\n",
              "</table>\n",
              "</div>\n",
              "      <button class=\"colab-df-convert\" onclick=\"convertToInteractive('df-1abcf345-5dca-46ac-a30e-0831de04e97c')\"\n",
              "              title=\"Convert this dataframe to an interactive table.\"\n",
              "              style=\"display:none;\">\n",
              "        \n",
              "  <svg xmlns=\"http://www.w3.org/2000/svg\" height=\"24px\"viewBox=\"0 0 24 24\"\n",
              "       width=\"24px\">\n",
              "    <path d=\"M0 0h24v24H0V0z\" fill=\"none\"/>\n",
              "    <path d=\"M18.56 5.44l.94 2.06.94-2.06 2.06-.94-2.06-.94-.94-2.06-.94 2.06-2.06.94zm-11 1L8.5 8.5l.94-2.06 2.06-.94-2.06-.94L8.5 2.5l-.94 2.06-2.06.94zm10 10l.94 2.06.94-2.06 2.06-.94-2.06-.94-.94-2.06-.94 2.06-2.06.94z\"/><path d=\"M17.41 7.96l-1.37-1.37c-.4-.4-.92-.59-1.43-.59-.52 0-1.04.2-1.43.59L10.3 9.45l-7.72 7.72c-.78.78-.78 2.05 0 2.83L4 21.41c.39.39.9.59 1.41.59.51 0 1.02-.2 1.41-.59l7.78-7.78 2.81-2.81c.8-.78.8-2.07 0-2.86zM5.41 20L4 18.59l7.72-7.72 1.47 1.35L5.41 20z\"/>\n",
              "  </svg>\n",
              "      </button>\n",
              "      \n",
              "  <style>\n",
              "    .colab-df-container {\n",
              "      display:flex;\n",
              "      flex-wrap:wrap;\n",
              "      gap: 12px;\n",
              "    }\n",
              "\n",
              "    .colab-df-convert {\n",
              "      background-color: #E8F0FE;\n",
              "      border: none;\n",
              "      border-radius: 50%;\n",
              "      cursor: pointer;\n",
              "      display: none;\n",
              "      fill: #1967D2;\n",
              "      height: 32px;\n",
              "      padding: 0 0 0 0;\n",
              "      width: 32px;\n",
              "    }\n",
              "\n",
              "    .colab-df-convert:hover {\n",
              "      background-color: #E2EBFA;\n",
              "      box-shadow: 0px 1px 2px rgba(60, 64, 67, 0.3), 0px 1px 3px 1px rgba(60, 64, 67, 0.15);\n",
              "      fill: #174EA6;\n",
              "    }\n",
              "\n",
              "    [theme=dark] .colab-df-convert {\n",
              "      background-color: #3B4455;\n",
              "      fill: #D2E3FC;\n",
              "    }\n",
              "\n",
              "    [theme=dark] .colab-df-convert:hover {\n",
              "      background-color: #434B5C;\n",
              "      box-shadow: 0px 1px 3px 1px rgba(0, 0, 0, 0.15);\n",
              "      filter: drop-shadow(0px 1px 2px rgba(0, 0, 0, 0.3));\n",
              "      fill: #FFFFFF;\n",
              "    }\n",
              "  </style>\n",
              "\n",
              "      <script>\n",
              "        const buttonEl =\n",
              "          document.querySelector('#df-1abcf345-5dca-46ac-a30e-0831de04e97c button.colab-df-convert');\n",
              "        buttonEl.style.display =\n",
              "          google.colab.kernel.accessAllowed ? 'block' : 'none';\n",
              "\n",
              "        async function convertToInteractive(key) {\n",
              "          const element = document.querySelector('#df-1abcf345-5dca-46ac-a30e-0831de04e97c');\n",
              "          const dataTable =\n",
              "            await google.colab.kernel.invokeFunction('convertToInteractive',\n",
              "                                                     [key], {});\n",
              "          if (!dataTable) return;\n",
              "\n",
              "          const docLinkHtml = 'Like what you see? Visit the ' +\n",
              "            '<a target=\"_blank\" href=https://colab.research.google.com/notebooks/data_table.ipynb>data table notebook</a>'\n",
              "            + ' to learn more about interactive tables.';\n",
              "          element.innerHTML = '';\n",
              "          dataTable['output_type'] = 'display_data';\n",
              "          await google.colab.output.renderOutput(dataTable, element);\n",
              "          const docLink = document.createElement('div');\n",
              "          docLink.innerHTML = docLinkHtml;\n",
              "          element.appendChild(docLink);\n",
              "        }\n",
              "      </script>\n",
              "    </div>\n",
              "  </div>\n",
              "  "
            ],
            "text/plain": [
              "   funded_amnt_inv  term  int_rate  installment grade sub_grade emp_length home_ownership  annual_inc verification_status    issue_d  loan_status         purpose zip_code addr_state    dti earliest_cr_line  inq_last_6mths  open_acc  pub_rec  revol_bal  revol_util  total_acc  out_prncp  out_prncp_inv  pub_rec_bankruptcies\n",
              "0           4975.0    36     10.65       162.87     B        B2         10           RENT     24000.0            Verified 2011-12-01            1     credit_card    860xx         AZ  27.65       1985-01-01               1         3        0      13648        83.7          9        0.0            0.0                   0.0\n",
              "1           2500.0    60     15.27        59.83     C        C4          0           RENT     30000.0     Source Verified 2011-12-01            0             car    309xx         GA   1.00       1999-04-01               5         3        0       1687         9.4          4        0.0            0.0                   0.0\n",
              "2           2400.0    36     15.96        84.33     C        C5         10           RENT     12252.0        Not Verified 2011-12-01            1  small_business    606xx         IL   8.72       2001-11-01               2         2        0       2956        98.5         10        0.0            0.0                   0.0\n",
              "3          10000.0    36     13.49       339.31     C        C1         10           RENT     49200.0     Source Verified 2011-12-01            1           other    917xx         CA  20.00       1996-02-01               1        10        0       5598        21.0         37        0.0            0.0                   0.0\n",
              "5           5000.0    36      7.90       156.46     A        A4          3           RENT     36000.0     Source Verified 2011-12-01            1         wedding    852xx         AZ  11.20       2004-11-01               3         9        0       7963        28.3         12        0.0            0.0                   0.0"
            ]
          },
          "metadata": {},
          "execution_count": 22
        }
      ],
      "source": [
        "loan.head()"
      ]
    },
    {
      "cell_type": "code",
      "execution_count": 23,
      "metadata": {
        "scrolled": true,
        "colab": {
          "base_uri": "https://localhost:8080/",
          "height": 270
        },
        "id": "UHNcU7wTeJEK",
        "outputId": "7669a1d9-bd10-4d09-db2b-82ac5a06d390"
      },
      "outputs": [
        {
          "output_type": "display_data",
          "data": {
            "image/png": "[encoded data removed]",
            "text/plain": [
              "<Figure size 432x288 with 1 Axes>"
            ]
          },
          "metadata": {}
        }
      ],
      "source": [
        "#undertake categorical analysis of home ownership  and loan purpose vis-a-vis loan_status\n",
        "\n",
        "# plotting pie chart for different types of purpose\n",
        "explode = [0.1,0.1,0.1,0.1,0.1,0.1,0.1,0.1,0.1,0.1,0.1,0.1,0.1,0.1]\n",
        "\n",
        "loan_purpose_df = loan.groupby('purpose')[['funded_amnt_inv']].sum()\n",
        "plt.pie(loan_purpose_df['funded_amnt_inv'],labels = loan_purpose_df.index, autopct = '%1.1f%%',explode = explode)\n",
        "\n",
        "plt.title(\"Categorical Spread of Loan Purpose Aggregared by Amount Funded\",\n",
        "     color = 'blue', fontweight = 'bold', fontsize = '20')\n",
        "plt.show()\n"
      ]
    },
    {
      "cell_type": "code",
      "execution_count": 24,
      "metadata": {
        "colab": {
          "base_uri": "https://localhost:8080/",
          "height": 1000
        },
        "id": "xR3XRQVaeJEK",
        "outputId": "7df8f769-6ee7-40e5-856f-2b99f8dd3fdb"
      },
      "outputs": [
        {
          "output_type": "display_data",
          "data": {
            "image/png": "[encoded data removed]",
            "text/plain": [
              "<Figure size 432x288 with 1 Axes>"
            ]
          },
          "metadata": {
            "needs_background": "light"
          }
        },
        {
          "output_type": "display_data",
          "data": {
            "image/png": "[encoded data removed]",
            "text/plain": [
              "<Figure size 432x288 with 1 Axes>"
            ]
          },
          "metadata": {
            "needs_background": "light"
          }
        },
        {
          "output_type": "display_data",
          "data": {
            "image/png": "[encoded data removed]",
            "text/plain": [
              "<Figure size 432x288 with 1 Axes>"
            ]
          },
          "metadata": {
            "needs_background": "light"
          }
        }
      ],
      "source": [
        "loan_purpose_df_consolidated = loan.groupby('purpose')[['funded_amnt_inv']].sum()\n",
        "loan_purpose_df_consolidated.plot(kind=\"bar\", title=\"Consolidated Loans Funded Across Diffirent Purpose Categories\")\n",
        "plt.xticks(horizontalalignment=\"center\")\n",
        "# Modifying the ticks to show information in (million dollars)\n",
        "plt.gcf().axes[0].yaxis.get_major_formatter().set_scientific(False)\n",
        "plt.show()\n",
        "\n",
        "\n",
        "loan_purpose_df_paidoff = loan_fully_paid.groupby('purpose')[['funded_amnt_inv']].sum()\n",
        "loan_purpose_df_paidoff.plot(kind=\"bar\", title=\"Fully Paid Loans Funded Across Diffirent Purpose Categories\")\n",
        "plt.xticks(horizontalalignment=\"center\")\n",
        "# Modifying the ticks to show information in (million dollars)\n",
        "plt.gcf().axes[0].yaxis.get_major_formatter().set_scientific(False)\n",
        "plt.show()\n",
        "\n",
        "\n",
        "loan_purpose_df_defaulted = loan_charged_off.groupby('purpose')[['funded_amnt_inv']].sum()\n",
        "loan_purpose_df_defaulted.plot(kind=\"bar\", title=\"Charged Off Loans Funded Across Diffirent Purpose Categories\")\n",
        "plt.xticks(horizontalalignment=\"center\")\n",
        "# Modifying the ticks to show information in (million dollars)\n",
        "plt.gcf().axes[0].yaxis.get_major_formatter().set_scientific(False)\n",
        "plt.show()"
      ]
    },
    {
      "cell_type": "code",
      "execution_count": 25,
      "metadata": {
        "colab": {
          "base_uri": "https://localhost:8080/",
          "height": 995
        },
        "id": "1pLPf8-neJEL",
        "outputId": "4081ed38-519b-4d1e-80f5-a1637f37f551"
      },
      "outputs": [
        {
          "output_type": "display_data",
          "data": {
            "image/png": "[encoded data removed]",
            "text/plain": [
              "<Figure size 432x288 with 1 Axes>"
            ]
          },
          "metadata": {
            "needs_background": "light"
          }
        },
        {
          "output_type": "display_data",
          "data": {
            "image/png": "[encoded data removed]",
            "text/plain": [
              "<Figure size 432x288 with 1 Axes>"
            ]
          },
          "metadata": {
            "needs_background": "light"
          }
        },
        {
          "output_type": "display_data",
          "data": {
            "image/png": "[encoded data removed]",
            "text/plain": [
              "<Figure size 432x288 with 1 Axes>"
            ]
          },
          "metadata": {
            "needs_background": "light"
          }
        }
      ],
      "source": [
        "loan_purpose_df_consolidated = loan.groupby('home_ownership')[['funded_amnt_inv']].sum()\n",
        "loan_purpose_df_consolidated.plot(kind=\"bar\", title=\"Consolidated Loans Funded Across Diffirent Home Ownership\")\n",
        "plt.xticks(horizontalalignment=\"center\")\n",
        "# Modifying the ticks to show information in (million dollars)\n",
        "plt.gcf().axes[0].yaxis.get_major_formatter().set_scientific(False)\n",
        "plt.show()\n",
        "\n",
        "\n",
        "loan_purpose_df_paidoff = loan_fully_paid.groupby('home_ownership')[['funded_amnt_inv']].sum()\n",
        "loan_purpose_df_paidoff.plot(kind=\"bar\", title=\"Fully Paid Loans Funded Across Diffirent Home Ownership\")\n",
        "plt.xticks(horizontalalignment=\"center\")\n",
        "# Modifying the ticks to show information in (million dollars)\n",
        "plt.gcf().axes[0].yaxis.get_major_formatter().set_scientific(False)\n",
        "plt.show()\n",
        "\n",
        "\n",
        "loan_purpose_df_defaulted = loan_charged_off.groupby('home_ownership')[['funded_amnt_inv']].sum()\n",
        "loan_purpose_df_defaulted.plot(kind=\"bar\", title=\"Charged Off Loans Funded Across Diffirent Home Ownership\")\n",
        "plt.xticks(horizontalalignment=\"center\")\n",
        "# Modifying the ticks to show information in (million dollars)\n",
        "plt.gcf().axes[0].yaxis.get_major_formatter().set_scientific(False)\n",
        "plt.show()"
      ]
    },
    {
      "cell_type": "markdown",
      "source": [
        "##### Analyse impact of state and zip code on loan default\n"
      ],
      "metadata": {
        "id": "rFioE0MkfkFa"
      }
    },
    {
      "cell_type": "code",
      "source": [
        "#analyse impact of state on percentage of total loan paid\n",
        "func=lambda x : np.sum(x)/10000\n",
        "raw_table=pd.pivot_table(loan, index='addr_state',columns='loan_status',values='funded_amnt_inv',aggfunc=func)\n",
        "raw_table[\"%default of total default\"] = round((raw_table[0]/raw_table[0].sum())*100)\n",
        "raw_table[\"%defalt of Loan disbursal\"] = round((raw_table[0]/(raw_table[1]+raw_table[0]))*100)\n",
        "print(raw_table[raw_table[\"%defalt of Loan disbursal\"]>15].sort_values(by='%defalt of Loan disbursal', ascending=False))"
      ],
      "metadata": {
        "colab": {
          "base_uri": "https://localhost:8080/"
        },
        "id": "8tBo-m_qfrux",
        "outputId": "28af6484-0894-4f1a-d257-c01bf23b9c2c"
      },
      "execution_count": 26,
      "outputs": [
        {
          "output_type": "stream",
          "name": "stdout",
          "text": [
            "loan_status            0            1  %default of total default  %defalt of Loan disbursal\n",
            "addr_state                                                                                 \n",
            "NE              0.162499     0.388542                        0.0                       29.0\n",
            "SD             13.917500    43.285071                        0.0                       24.0\n",
            "NV            114.309711   364.807239                        2.0                       24.0\n",
            "AK             19.540407    68.928862                        0.0                       22.0\n",
            "UT             49.587642   204.655093                        1.0                       20.0\n",
            "FL            505.771461  2200.431015                        8.0                       19.0\n",
            "WA            145.313609   664.969282                        2.0                       18.0\n",
            "NJ            318.082474  1604.969760                        5.0                       17.0\n",
            "OR             74.327973   351.390048                        1.0                       17.0\n",
            "NM             28.675743   138.124417                        0.0                       17.0\n",
            "WI             76.977042   372.920438                        1.0                       17.0\n",
            "CA           1227.260505  6002.246090                       20.0                       17.0\n",
            "MO            114.786831   560.498093                        2.0                       17.0\n",
            "MD            181.316540   900.064601                        3.0                       17.0\n",
            "KY             52.360211   260.654760                        1.0                       17.0\n",
            "NC            121.901505   656.064641                        2.0                       16.0\n",
            "MT             12.656906    65.376878                        0.0                       16.0\n",
            "RI             26.978455   142.044815                        0.0                       16.0\n",
            "SC             74.582966   387.678708                        1.0                       16.0\n",
            "GA            216.498924  1165.863748                        4.0                       16.0\n",
            "NH             29.506724   149.664160                        0.0                       16.0\n"
          ]
        }
      ]
    },
    {
      "cell_type": "code",
      "source": [
        ""
      ],
      "metadata": {
        "id": "Y85iqs9Vq2iS"
      },
      "execution_count": 26,
      "outputs": []
    },
    {
      "cell_type": "code",
      "source": [
        "#analyse impact of zipcode on percentage of total loan paid\n",
        "func=lambda x : np.sum(x)/10000\n",
        "raw_table=pd.pivot_table(loan, index='zip_code',columns='loan_status',values='funded_amnt_inv',aggfunc=func)\n",
        "raw_table[\"%default of total default\"] = round((raw_table[0]/raw_table[0].sum())*100)\n",
        "raw_table[\"%defalt of Loan disbursal\"] = round((raw_table[0]/(raw_table[1]+raw_table[0]))*100)\n",
        "print(raw_table[raw_table[\"%defalt of Loan disbursal\"]>25].sort_values(by='%defalt of Loan disbursal', ascending=False))"
      ],
      "metadata": {
        "colab": {
          "base_uri": "https://localhost:8080/"
        },
        "id": "PhHT_5c9hDZi",
        "outputId": "09fcc277-e54e-4ae7-ba49-ac391710be4a"
      },
      "execution_count": 27,
      "outputs": [
        {
          "output_type": "stream",
          "name": "stdout",
          "text": [
            "loan_status          0           1  %default of total default  %defalt of Loan disbursal\n",
            "zip_code                                                                                \n",
            "438xx         3.161106    1.100000                        0.0                       74.0\n",
            "746xx         5.297500    1.919300                        0.0                       73.0\n",
            "673xx         1.200000    0.496058                        0.0                       71.0\n",
            "496xx         4.095000    1.712500                        0.0                       71.0\n",
            "561xx         4.509597    1.962500                        0.0                       70.0\n",
            "203xx         1.575000    0.715000                        0.0                       69.0\n",
            "608xx         4.677500    2.176444                        0.0                       68.0\n",
            "371xx         0.960000    0.486209                        0.0                       66.0\n",
            "668xx         2.500000    1.315000                        0.0                       66.0\n",
            "215xx         2.200000    1.110000                        0.0                       66.0\n",
            "593xx         2.000000    1.075732                        0.0                       65.0\n",
            "798xx         1.475875    0.803948                        0.0                       65.0\n",
            "897xx         4.087500    2.484997                        0.0                       62.0\n",
            "758xx         2.200000    1.457500                        0.0                       60.0\n",
            "755xx         2.540000    2.035000                        0.0                       56.0\n",
            "607xx         7.437500    6.148786                        0.0                       55.0\n",
            "253xx         5.775000    4.981469                        0.0                       54.0\n",
            "744xx         5.879948    5.462500                        0.0                       52.0\n",
            "143xx         2.497500    2.300000                        0.0                       52.0\n",
            "416xx         1.357500    1.280000                        0.0                       51.0\n",
            "422xx         3.300000    3.295000                        0.0                       50.0\n",
            "499xx         1.840000    1.978733                        0.0                       48.0\n",
            "883xx         3.285000    3.500755                        0.0                       48.0\n",
            "599xx         1.870000    2.090000                        0.0                       47.0\n",
            "364xx         1.642500    1.949024                        0.0                       46.0\n",
            "808xx         4.287500    4.995000                        0.0                       46.0\n",
            "534xx         8.192744   10.608884                        0.0                       44.0\n",
            "264xx         2.187500    2.873125                        0.0                       43.0\n",
            "425xx         3.352500    4.365000                        0.0                       43.0\n",
            "614xx         5.617500    7.341305                        0.0                       43.0\n",
            "826xx         4.100000    5.750547                        0.0                       42.0\n",
            "639xx         3.797500    5.138931                        0.0                       42.0\n",
            "570xx         3.767500    5.215000                        0.0                       42.0\n",
            "623xx         3.465000    4.697897                        0.0                       42.0\n",
            "135xx         2.372991    3.249905                        0.0                       42.0\n",
            "573xx         3.400000    4.795000                        0.0                       41.0\n",
            "244xx         6.532500    9.706296                        0.0                       40.0\n",
            "667xx         3.557500    5.677545                        0.0                       39.0\n",
            "147xx         4.674482    7.744198                        0.0                       38.0\n",
            "638xx         0.980000    1.600000                        0.0                       38.0\n",
            "434xx         3.945000    6.569012                        0.0                       38.0\n",
            "997xx        11.019091   18.201066                        0.0                       38.0\n",
            "626xx         4.088852    7.030538                        0.0                       37.0\n",
            "224xx        12.068622   20.883582                        0.0                       37.0\n",
            "912xx        18.470925   31.493633                        0.0                       37.0\n",
            "766xx         4.143264    7.256446                        0.0                       36.0\n",
            "619xx         4.517500    7.961043                        0.0                       36.0\n",
            "719xx         4.327500    7.857451                        0.0                       36.0\n",
            "935xx        39.924885   69.954154                        1.0                       36.0\n",
            "035xx         1.140000    2.067500                        0.0                       36.0\n",
            "713xx         2.111238    3.959497                        0.0                       35.0\n",
            "026xx         6.710368   12.463979                        0.0                       35.0\n",
            "349xx        21.203647   39.273103                        0.0                       35.0\n",
            "615xx         2.897500    5.581214                        0.0                       34.0\n",
            "265xx         5.097500    9.836623                        0.0                       34.0\n",
            "411xx         1.467500    2.820000                        0.0                       34.0\n",
            "037xx         3.596987    7.136757                        0.0                       34.0\n",
            "685xx         0.150000    0.307500                        0.0                       33.0\n",
            "279xx         2.747500    5.518622                        0.0                       33.0\n",
            "996xx         2.708816    5.582477                        0.0                       33.0\n",
            "400xx         8.597500   17.449975                        0.0                       33.0\n",
            "811xx         4.197500    8.753761                        0.0                       32.0\n",
            "863xx         7.054801   15.083844                        0.0                       32.0\n",
            "238xx        14.257803   30.533114                        0.0                       32.0\n",
            "363xx        10.007500   21.026989                        0.0                       32.0\n",
            "354xx         7.222758   15.127500                        0.0                       32.0\n",
            "724xx         6.228533   13.582500                        0.0                       31.0\n",
            "072xx        10.760156   24.011471                        0.0                       31.0\n",
            "271xx         3.397500    7.600000                        0.0                       31.0\n",
            "572xx         1.500000    3.292500                        0.0                       31.0\n",
            "404xx         4.695000   10.514932                        0.0                       31.0\n",
            "763xx         4.917500   10.775000                        0.0                       31.0\n",
            "171xx         7.660000   17.133741                        0.0                       31.0\n",
            "891xx        68.160197  161.818868                        1.0                       30.0\n",
            "177xx         5.695494   13.385760                        0.0                       30.0\n",
            "089xx         5.829126   13.734600                        0.0                       30.0\n",
            "781xx         6.933338   16.351884                        0.0                       30.0\n",
            "206xx        19.154851   44.725303                        0.0                       30.0\n",
            "991xx         3.159119    7.481679                        0.0                       30.0\n",
            "924xx         6.142501   14.269936                        0.0                       30.0\n",
            "611xx         3.290738    7.787500                        0.0                       30.0\n",
            "446xx         9.765000   22.629099                        0.0                       30.0\n",
            "158xx         4.345000   10.437060                        0.0                       29.0\n",
            "498xx         2.830000    6.992500                        0.0                       29.0\n",
            "106xx        10.290000   25.104554                        0.0                       29.0\n",
            "321xx        17.797010   44.237912                        0.0                       29.0\n",
            "439xx         5.604999   13.834484                        0.0                       29.0\n",
            "447xx         4.535922   11.418365                        0.0                       28.0\n",
            "795xx         1.923690    4.858414                        0.0                       28.0\n",
            "903xx         3.740000    9.785000                        0.0                       28.0\n",
            "905xx        11.120000   28.837427                        0.0                       28.0\n",
            "182xx         4.595000   11.651506                        0.0                       28.0\n",
            "316xx         5.785268   15.117735                        0.0                       28.0\n",
            "971xx        12.335787   31.406426                        0.0                       28.0\n",
            "847xx         6.275000   16.129190                        0.0                       28.0\n",
            "108xx         7.988463   21.688524                        0.0                       27.0\n",
            "492xx         4.261675   11.554540                        0.0                       27.0\n",
            "816xx         9.427306   25.523883                        0.0                       27.0\n",
            "155xx         2.470449    6.595000                        0.0                       27.0\n",
            "745xx         1.000000    2.672500                        0.0                       27.0\n",
            "273xx         7.820000   20.915000                        0.0                       27.0\n",
            "277xx         4.300000   11.882500                        0.0                       27.0\n",
            "154xx         2.232920    6.015000                        0.0                       27.0\n",
            "634xx         1.700000    4.616114                        0.0                       27.0\n",
            "315xx         4.904061   13.422500                        0.0                       27.0\n",
            "959xx        20.505979   58.234161                        0.0                       26.0\n",
            "571xx         4.750000   13.373096                        0.0                       26.0\n",
            "360xx         6.077500   17.350246                        0.0                       26.0\n",
            "986xx        14.825255   42.963256                        0.0                       26.0\n",
            "914xx        13.601705   38.962776                        0.0                       26.0\n",
            "305xx        24.001011   67.419919                        0.0                       26.0\n",
            "291xx         4.658639   12.932210                        0.0                       26.0\n",
            "497xx         3.082500    8.694678                        0.0                       26.0\n",
            "890xx        36.304513  102.026263                        1.0                       26.0\n",
            "544xx         6.397500   18.575000                        0.0                       26.0\n"
          ]
        }
      ]
    },
    {
      "cell_type": "markdown",
      "source": [
        "##### Analyse impact of loan purpose on loan default\n",
        "\n"
      ],
      "metadata": {
        "id": "AnTbTL88r7_r"
      }
    },
    {
      "cell_type": "code",
      "source": [
        "#analyse impact of purpose on percentage of total loan paid\n",
        "func=lambda x : np.sum(x)/10000\n",
        "raw_table=pd.pivot_table(loan, index='purpose',columns='loan_status',values='funded_amnt_inv',aggfunc=func)\n",
        "raw_table[\"%default of total default\"] = round((raw_table[0]/raw_table[0].sum())*100)\n",
        "raw_table[\"%defalt of Loan disbursal\"] = round((raw_table[0]/(raw_table[1]+raw_table[0]))*100)\n",
        "print(raw_table.sort_values(by='%defalt of Loan disbursal', ascending=False))"
      ],
      "metadata": {
        "id": "KPCPSW8PsF5H",
        "outputId": "ae3b9b14-ccba-4f82-d389-a4db13dd19e0",
        "colab": {
          "base_uri": "https://localhost:8080/"
        }
      },
      "execution_count": 28,
      "outputs": [
        {
          "output_type": "stream",
          "name": "stdout",
          "text": [
            "loan_status                   0             1  %default of total default  %defalt of Loan disbursal\n",
            "purpose                                                                                            \n",
            "small_business       585.444310   1444.905545                       10.0                       29.0\n",
            "educational           36.589579    145.870416                        1.0                       20.0\n",
            "renewable_energy      14.399654     62.479715                        0.0                       19.0\n",
            "medical               85.779975    432.055454                        1.0                       17.0\n",
            "other                463.938806   2344.855589                        8.0                       17.0\n",
            "debt_consolidation  3408.223495  17613.126275                       56.0                       16.0\n",
            "house                 70.016359    363.699906                        1.0                       16.0\n",
            "vacation              29.910826    162.800680                        0.0                       16.0\n",
            "moving                50.911467    305.240846                        1.0                       14.0\n",
            "credit_card          629.423719   4753.221928                       10.0                       12.0\n",
            "home_improvement     362.383913   2633.062787                        6.0                       12.0\n",
            "car                  109.892502    859.333017                        2.0                       11.0\n",
            "major_purchase       176.147064   1453.029584                        3.0                       11.0\n",
            "wedding               90.404481    748.117538                        1.0                       11.0\n"
          ]
        }
      ]
    },
    {
      "cell_type": "markdown",
      "source": [
        "#### Analyse impact of verification on loan default"
      ],
      "metadata": {
        "id": "k0LuTo3msuQs"
      }
    },
    {
      "cell_type": "code",
      "source": [
        "#analyse impact of verification on percentage of total loan paid\n",
        "func=lambda x : np.sum(x)/10000\n",
        "raw_table=pd.pivot_table(loan, index='verification_status',columns='loan_status',values='funded_amnt_inv',aggfunc=func)\n",
        "raw_table[\"%default of total default\"] = round((raw_table[0]/raw_table[0].sum())*100)\n",
        "raw_table[\"%defalt of Loan disbursal\"] = round((raw_table[0]/(raw_table[1]+raw_table[0]))*100)\n",
        "print(raw_table.sort_values(by='%defalt of Loan disbursal', ascending=False))"
      ],
      "metadata": {
        "id": "N7p8oNr-sMyg",
        "outputId": "1c82b61e-340e-4720-fc57-7cab4e6acb99",
        "colab": {
          "base_uri": "https://localhost:8080/"
        }
      },
      "execution_count": 29,
      "outputs": [
        {
          "output_type": "stream",
          "name": "stdout",
          "text": [
            "loan_status                    0             1  %default of total default  %defalt of Loan disbursal\n",
            "verification_status                                                                                 \n",
            "Verified             3108.137013  14533.428295                       51.0                       18.0\n",
            "Source Verified      1439.840285   7771.448359                       24.0                       16.0\n",
            "Not Verified         1565.488851  11016.922626                       26.0                       12.0\n"
          ]
        }
      ]
    },
    {
      "cell_type": "markdown",
      "source": [
        "#### Analyse impact of loan grade on default"
      ],
      "metadata": {
        "id": "KqdEsATztPcA"
      }
    },
    {
      "cell_type": "code",
      "source": [
        "#analyse impact of loan grade rating on percentage of total loan paid\n",
        "func=lambda x : np.sum(x)/10000\n",
        "raw_table=pd.pivot_table(loan, index='grade',columns='loan_status',values='funded_amnt_inv',aggfunc=func)\n",
        "raw_table[\"%default of total default\"] = round((raw_table[0]/raw_table[0].sum())*100)\n",
        "raw_table[\"%defalt of Loan disbursal\"] = round((raw_table[0]/(raw_table[1]+raw_table[0]))*100)\n",
        "print(raw_table.sort_values(by='%defalt of Loan disbursal', ascending=False))"
      ],
      "metadata": {
        "id": "wRzOdb2ds-9_",
        "outputId": "7d93e672-af7f-4a25-d357-d621f0858fd0",
        "colab": {
          "base_uri": "https://localhost:8080/"
        }
      },
      "execution_count": 30,
      "outputs": [
        {
          "output_type": "stream",
          "name": "stdout",
          "text": [
            "loan_status            0             1  %default of total default  %defalt of Loan disbursal\n",
            "grade                                                                                       \n",
            "F             558.753605   1062.364411                        9.0                       34.0\n",
            "G             169.510267    393.668636                        3.0                       30.0\n",
            "E            1024.339567   2777.616785                       17.0                       27.0\n",
            "D            1215.562461   4491.693123                       20.0                       21.0\n",
            "C            1314.487469   6401.156013                       22.0                       17.0\n",
            "B            1388.838582  10452.996513                       23.0                       12.0\n",
            "A             441.974198   7742.303800                        7.0                        5.0\n"
          ]
        }
      ]
    },
    {
      "cell_type": "code",
      "source": [
        "func=lambda x : np.sum(x)/10000\n",
        "raw_table=pd.pivot_table(loan, index=['grade','sub_grade'],columns='loan_status',values='funded_amnt_inv',aggfunc=func)\n",
        "raw_table[\"%default of total default\"] = round((raw_table[0]/raw_table[0].sum())*100)\n",
        "raw_table[\"%defalt of Loan disbursal\"] = round((raw_table[0]/(raw_table[1]+raw_table[0]))*100)\n",
        "print(raw_table.sort_values(by='%defalt of Loan disbursal', ascending=False))"
      ],
      "metadata": {
        "id": "5-uT-MBlthuH",
        "outputId": "d7820940-0dd2-47ed-c447-880335a2aaa9",
        "colab": {
          "base_uri": "https://localhost:8080/"
        }
      },
      "execution_count": 31,
      "outputs": [
        {
          "output_type": "stream",
          "name": "stdout",
          "text": [
            "loan_status               0            1  %default of total default  %defalt of Loan disbursal\n",
            "grade sub_grade                                                                               \n",
            "F     F5         103.962321   106.589469                        2.0                       49.0\n",
            "      F4          96.992345   148.889053                        2.0                       39.0\n",
            "G     G3          32.608680    52.444542                        1.0                       38.0\n",
            "      G5          16.637432    36.076576                        0.0                       32.0\n",
            "F     F1         162.578799   339.602457                        3.0                       32.0\n",
            "G     G2          46.062962   100.716229                        1.0                       31.0\n",
            "      G1          54.581942   121.754863                        1.0                       31.0\n",
            "F     F2         111.051688   260.558081                        2.0                       30.0\n",
            "      F3          84.168451   206.725351                        1.0                       29.0\n",
            "E     E4         181.198661   450.425353                        3.0                       29.0\n",
            "      E5         182.684774   458.606884                        3.0                       28.0\n",
            "      E1         273.295567   705.291147                        4.0                       28.0\n",
            "      E2         226.867999   607.470135                        4.0                       27.0\n",
            "D     D5         273.243389   812.707191                        4.0                       25.0\n",
            "      D3         307.885637   981.599728                        5.0                       24.0\n",
            "E     E3         160.292565   555.823266                        3.0                       22.0\n",
            "D     D4         243.114439   888.628607                        4.0                       21.0\n",
            "G     G4          19.619252    82.676426                        0.0                       19.0\n",
            "D     D2         264.912522  1097.429816                        4.0                       19.0\n",
            "C     C4         208.302411   930.826126                        3.0                       18.0\n",
            "      C5         188.570834   896.917001                        3.0                       17.0\n",
            "      C3         250.477112  1185.071462                        4.0                       17.0\n",
            "      C2         328.090994  1662.302379                        5.0                       16.0\n",
            "      C1         339.046118  1726.039044                        6.0                       16.0\n",
            "D     D1         126.406474   711.327781                        2.0                       15.0\n",
            "B     B4         338.362786  2172.041024                        6.0                       13.0\n",
            "      B5         367.831521  2397.585530                        6.0                       13.0\n",
            "      B3         347.393285  2656.181409                        6.0                       12.0\n",
            "      B2         192.169984  1723.161956                        3.0                       10.0\n",
            "      B1         143.081007  1504.026593                        2.0                        9.0\n",
            "A     A5         163.625846  2275.072942                        3.0                        7.0\n",
            "      A3          74.180752  1259.023006                        1.0                        6.0\n",
            "      A4         133.149380  2387.613478                        2.0                        5.0\n",
            "      A2          49.591496  1021.726098                        1.0                        5.0\n",
            "      A1          21.426724   798.868276                        0.0                        3.0\n"
          ]
        }
      ]
    },
    {
      "cell_type": "markdown",
      "source": [
        "#### Analyse impact of employment tenure on default"
      ],
      "metadata": {
        "id": "cgkOmu2Jt_cp"
      }
    },
    {
      "cell_type": "code",
      "source": [
        "#analyse impact of employment tenure on percentage of total loan paid\n",
        "func=lambda x : np.sum(x)/10000\n",
        "raw_table=pd.pivot_table(loan, index='emp_length',columns='loan_status',values='funded_amnt_inv',aggfunc=func)\n",
        "raw_table[\"%default of total default\"] = round((raw_table[0]/raw_table[0].sum())*100)\n",
        "raw_table[\"%defalt of Loan disbursal\"] = round((raw_table[0]/(raw_table[1]+raw_table[0]))*100)\n",
        "print(raw_table.sort_values(by='%defalt of Loan disbursal', ascending=False))"
      ],
      "metadata": {
        "id": "chUrhdg6ty7_",
        "outputId": "dbbe82ff-37b8-4de5-a35c-716097a38c5f",
        "colab": {
          "base_uri": "https://localhost:8080/"
        }
      },
      "execution_count": 32,
      "outputs": [
        {
          "output_type": "stream",
          "name": "stdout",
          "text": [
            "loan_status            0            1  %default of total default  %defalt of Loan disbursal\n",
            "emp_length                                                                                 \n",
            "nan           191.463485   646.708744                        3.0                       23.0\n",
            "10           1760.297043  8365.373798                       29.0                       17.0\n",
            "7             312.436364  1551.215145                        5.0                       17.0\n",
            "0             571.965440  3312.162201                        9.0                       15.0\n",
            "3             577.530230  3366.339706                        9.0                       15.0\n",
            "5             507.884734  2825.525137                        8.0                       15.0\n",
            "6             343.863582  1957.058736                        6.0                       15.0\n",
            "8             236.718875  1323.043183                        4.0                       15.0\n",
            "1             400.691554  2434.170747                        7.0                       14.0\n",
            "2             546.594004  3454.063871                        9.0                       14.0\n",
            "4             481.715010  2907.130714                        8.0                       14.0\n",
            "9             182.305827  1179.007300                        3.0                       13.0\n"
          ]
        }
      ]
    },
    {
      "cell_type": "markdown",
      "source": [
        "#### Undertake binning of data for sets with too much diversity"
      ],
      "metadata": {
        "id": "grDpinnbzJ6z"
      }
    },
    {
      "cell_type": "code",
      "source": [
        "#undertake binning for loan amount\n",
        "loan.funded_amnt_inv.describe()\n",
        "bin_labels = ['0-5000', '5000-10000', '10000-15000', '15000-20000','20000-25000', '25000-30000','30000-35000']\n",
        "bins = [-1, 5000, 10000, 15000, 20000,25000,30000,35000]\n",
        "loan['funded_amnt_inv_binned'] = pd.cut(loan['funded_amnt_inv'], bins=bins, labels=bin_labels)\n"
      ],
      "metadata": {
        "id": "yQ6BNmEwy7Ff"
      },
      "execution_count": 95,
      "outputs": []
    },
    {
      "cell_type": "code",
      "source": [
        "#undertake binning for interest rate\n",
        "loan.int_rate.describe()\n",
        "bin_labels = ['0-5', '5-10', '10-15', '15-20','20-25', '25-30']\n",
        "bins = [0, 5, 10, 15, 20, 25, 30]\n",
        "loan['int_rate_binned'] = pd.cut(loan['int_rate'], bins=bins, labels=bin_labels)\n"
      ],
      "metadata": {
        "id": "NB--bJn90nYW"
      },
      "execution_count": 96,
      "outputs": []
    },
    {
      "cell_type": "code",
      "source": [
        "#undertake binning for annual income\n",
        "loan.annual_inc.describe()\n",
        "bin_labels = ['0-25K', '25K-50K', '50K-75K', '75K-100K','100K-500K', '500K-1M','1M+']\n",
        "bins = [0, 25000, 50000, 75000, 100000,500000,1000000,10000000]\n",
        "loan['annual_inc_binned'] = pd.cut(loan['annual_inc'], bins=bins, labels=bin_labels)\n"
      ],
      "metadata": {
        "id": "W7qJls3B1lcf"
      },
      "execution_count": 97,
      "outputs": []
    },
    {
      "cell_type": "code",
      "source": [
        "#undertake binning for debt to income ratio\n",
        "loan.dti.describe()\n",
        "bin_labels = ['0-5', '5-10', '10-15', '15-20','20-25', '25-30']\n",
        "bins = [-1, 5, 10, 15, 20, 25, 30]\n",
        "loan['dti_binned'] = pd.cut(loan['dti'], bins=bins, labels=bin_labels)\n"
      ],
      "metadata": {
        "id": "lMo7afDi35LU"
      },
      "execution_count": 98,
      "outputs": []
    },
    {
      "cell_type": "code",
      "source": [
        "loan.revol_bal.describe()\n",
        "#undertake binning for revolviong balance ratio\n",
        "loan.revol_bal.describe()\n",
        "bin_labels = ['0-25K', '25K-50K','50K-75K', '75K-100K', '100K-125K', '125K-150K', '150K+']\n",
        "bins = [-1, 25000, 50000, 75000, 100000, 125000, 150000, 175000]\n",
        "loan['revol_bal_binned'] = pd.cut(loan['revol_bal'], bins=bins, labels=bin_labels)\n"
      ],
      "metadata": {
        "id": "Ycnv8u3U-CnP"
      },
      "execution_count": 99,
      "outputs": []
    },
    {
      "cell_type": "code",
      "source": [
        "#undertake binning for issue_d month\n",
        "bin_labels = ['Q1', 'Q2','Q3', 'Q4']\n",
        "bins = [0, 1, 4, 8, 12]\n",
        "loan['issue_d_month_binned'] = pd.cut(loan['issue_d_month'], bins=bins, labels=bin_labels)\n"
      ],
      "metadata": {
        "colab": {
          "base_uri": "https://localhost:8080/"
        },
        "id": "TKg2-yteQkMX",
        "outputId": "ee97514e-db88-4f5b-bbfb-31ae7944cffe"
      },
      "execution_count": 150,
      "outputs": [
        {
          "output_type": "execute_result",
          "data": {
            "text/plain": [
              "38577"
            ]
          },
          "metadata": {},
          "execution_count": 150
        }
      ]
    },
    {
      "cell_type": "markdown",
      "source": [
        "#### Undertake Analysis of binned quantities"
      ],
      "metadata": {
        "id": "Tj0c9Jk2_3_J"
      }
    },
    {
      "cell_type": "code",
      "source": [
        "#analyse impact of annual income on funded loan amount\n",
        "raw_table=pd.pivot_table(loan, index='funded_amnt_inv_binned',columns='annual_inc_binned',values='funded_amnt_inv',aggfunc='count')\n",
        "raw_table.T.plot(kind='bar', ylabel='Funded Investment', xlabel='Annual Income')\n"
      ],
      "metadata": {
        "colab": {
          "base_uri": "https://localhost:8080/",
          "height": 340
        },
        "id": "FN7T1EZx56d1",
        "outputId": "181494f5-e664-4ac9-a160-2236974eaeb6"
      },
      "execution_count": 107,
      "outputs": [
        {
          "output_type": "execute_result",
          "data": {
            "text/plain": [
              "<matplotlib.axes._subplots.AxesSubplot at 0x7f27ce2f6c90>"
            ]
          },
          "metadata": {},
          "execution_count": 107
        },
        {
          "output_type": "display_data",
          "data": {
            "image/png": "[encoded data removed]",
            "text/plain": [
              "<Figure size 432x288 with 1 Axes>"
            ]
          },
          "metadata": {
            "needs_background": "light"
          }
        }
      ]
    },
    {
      "cell_type": "code",
      "source": [
        "loan_defaulted=loan[loan.loan_status == 1]\n",
        "raw_table=pd.pivot_table(loan_defaulted, index='funded_amnt_inv_binned',columns='annual_inc_binned',values='funded_amnt_inv',aggfunc='count')\n",
        "raw_table.T.plot(kind='bar', ylabel='Funded Investment', xlabel='Annual Income')\n"
      ],
      "metadata": {
        "colab": {
          "base_uri": "https://localhost:8080/",
          "height": 340
        },
        "id": "Qz8GcvgbAX9k",
        "outputId": "91392ba4-bb8f-4826-fed6-603c4548d6ac"
      },
      "execution_count": 110,
      "outputs": [
        {
          "output_type": "execute_result",
          "data": {
            "text/plain": [
              "<matplotlib.axes._subplots.AxesSubplot at 0x7f27ce1fa690>"
            ]
          },
          "metadata": {},
          "execution_count": 110
        },
        {
          "output_type": "display_data",
          "data": {
            "image/png": "[encoded data removed]",
            "text/plain": [
              "<Figure size 432x288 with 1 Axes>"
            ]
          },
          "metadata": {
            "needs_background": "light"
          }
        }
      ]
    },
    {
      "cell_type": "code",
      "source": [
        "loan_defaulted=loan[loan.loan_status == 0]\n",
        "raw_table=pd.pivot_table(loan_defaulted, index='funded_amnt_inv_binned',columns='annual_inc_binned',values='funded_amnt_inv',aggfunc='count')\n",
        "raw_table.T.plot(kind='bar', ylabel='Funded Investment', xlabel='Annual Income')"
      ],
      "metadata": {
        "colab": {
          "base_uri": "https://localhost:8080/",
          "height": 340
        },
        "id": "J2_O92lGCn2L",
        "outputId": "0e81e1de-0559-43c3-e04e-f8d5357fb3ac"
      },
      "execution_count": 111,
      "outputs": [
        {
          "output_type": "execute_result",
          "data": {
            "text/plain": [
              "<matplotlib.axes._subplots.AxesSubplot at 0x7f27ce1f9f10>"
            ]
          },
          "metadata": {},
          "execution_count": 111
        },
        {
          "output_type": "display_data",
          "data": {
            "image/png": "[encoded data removed]",
            "text/plain": [
              "<Figure size 432x288 with 1 Axes>"
            ]
          },
          "metadata": {
            "needs_background": "light"
          }
        }
      ]
    },
    {
      "cell_type": "code",
      "source": [
        "#undertake assessment of relationship between dti and intrest rate\n",
        "raw_table=pd.pivot_table(loan, index='int_rate_binned',columns='dti_binned',values='funded_amnt_inv',aggfunc='count')\n",
        "raw_table.T.plot(kind='bar', ylabel='Intrest Rate', xlabel='Debt-Income Ratio')\n"
      ],
      "metadata": {
        "colab": {
          "base_uri": "https://localhost:8080/",
          "height": 315
        },
        "id": "JXsD_3URC_bk",
        "outputId": "123c218d-4439-4a42-e368-6b9f41dc503f"
      },
      "execution_count": 112,
      "outputs": [
        {
          "output_type": "execute_result",
          "data": {
            "text/plain": [
              "<matplotlib.axes._subplots.AxesSubplot at 0x7f27ce2f0350>"
            ]
          },
          "metadata": {},
          "execution_count": 112
        },
        {
          "output_type": "display_data",
          "data": {
            "image/png": "[encoded data removed]",
            "text/plain": [
              "<Figure size 432x288 with 1 Axes>"
            ]
          },
          "metadata": {
            "needs_background": "light"
          }
        }
      ]
    },
    {
      "cell_type": "code",
      "source": [
        "# count plot on two categorical variable\n",
        "sns.countplot(x ='loan_status', hue = \"int_rate_binned\", data = loan)\n",
        " # Show the plot\n",
        "plt.show()"
      ],
      "metadata": {
        "colab": {
          "base_uri": "https://localhost:8080/",
          "height": 280
        },
        "id": "oXyDKDgyDrOT",
        "outputId": "fd673922-3e17-4dfa-d58f-729e32a3f4d7"
      },
      "execution_count": 113,
      "outputs": [
        {
          "output_type": "display_data",
          "data": {
            "image/png": "[encoded data removed]",
            "text/plain": [
              "<Figure size 432x288 with 1 Axes>"
            ]
          },
          "metadata": {
            "needs_background": "light"
          }
        }
      ]
    },
    {
      "cell_type": "code",
      "source": [
        "# count plot on two categorical variable\n",
        "sns.countplot(x ='loan_status', hue = \"dti_binned\", data = loan)\n",
        " # Show the plot\n",
        "plt.show()"
      ],
      "metadata": {
        "colab": {
          "base_uri": "https://localhost:8080/",
          "height": 280
        },
        "id": "2qWuZiarFrhT",
        "outputId": "40384770-ba7e-47dc-811b-84230e38c0a6"
      },
      "execution_count": 114,
      "outputs": [
        {
          "output_type": "display_data",
          "data": {
            "image/png": "[encoded data removed]",
            "text/plain": [
              "<Figure size 432x288 with 1 Axes>"
            ]
          },
          "metadata": {
            "needs_background": "light"
          }
        }
      ]
    },
    {
      "cell_type": "code",
      "source": [
        "# count plot on two categorical variable\n",
        "sns.countplot(x ='loan_status', hue = \"funded_amnt_inv_binned\", data = loan)\n",
        " # Show the plot\n",
        "plt.show()"
      ],
      "metadata": {
        "colab": {
          "base_uri": "https://localhost:8080/",
          "height": 280
        },
        "id": "yfo9C99nF4nb",
        "outputId": "4b77afbe-b144-45de-a2e2-632df043755b"
      },
      "execution_count": 115,
      "outputs": [
        {
          "output_type": "display_data",
          "data": {
            "image/png": "[encoded data removed]",
            "text/plain": [
              "<Figure size 432x288 with 1 Axes>"
            ]
          },
          "metadata": {
            "needs_background": "light"
          }
        }
      ]
    },
    {
      "cell_type": "code",
      "source": [
        "# count plot on two categorical variable\n",
        "sns.countplot(y ='loan_status', hue = \"emp_length\", data = loan)\n",
        " # Show the plot\n",
        "plt.show()"
      ],
      "metadata": {
        "colab": {
          "base_uri": "https://localhost:8080/",
          "height": 279
        },
        "id": "6RhAcOMPGFwc",
        "outputId": "0ea65592-32c1-4ceb-f92f-00b5f23b86a3"
      },
      "execution_count": 118,
      "outputs": [
        {
          "output_type": "display_data",
          "data": {
            "image/png": "[encoded data removed]",
            "text/plain": [
              "<Figure size 432x288 with 1 Axes>"
            ]
          },
          "metadata": {
            "needs_background": "light"
          }
        }
      ]
    },
    {
      "cell_type": "code",
      "source": [
        "# count plot on two categorical variable\n",
        "sns.countplot(x ='loan_status', hue = \"revol_bal_binned\", data = loan)\n",
        " # Show the plot\n",
        "plt.show()"
      ],
      "metadata": {
        "colab": {
          "base_uri": "https://localhost:8080/",
          "height": 284
        },
        "id": "ibu4vLmIGNuU",
        "outputId": "0b6f86fa-2225-427e-d584-0afbc04c8c27"
      },
      "execution_count": 119,
      "outputs": [
        {
          "output_type": "display_data",
          "data": {
            "image/png": "[encoded data removed]",
            "text/plain": [
              "<Figure size 432x288 with 1 Axes>"
            ]
          },
          "metadata": {
            "needs_background": "light"
          }
        }
      ]
    },
    {
      "cell_type": "code",
      "source": [
        "sns.set_theme(style=\"whitegrid\")\n",
        "# Draw a nested violinplot and split the violins for easier comparison\n",
        "sns.violinplot(data=loan, x=\"int_rate_binned\", y=\"funded_amnt_inv\", hue=\"loan_status\",\n",
        "               split=True, inner=\"quart\", linewidth=1,\n",
        "               palette=\"Set2\")\n",
        "sns.despine(left=True)"
      ],
      "metadata": {
        "colab": {
          "base_uri": "https://localhost:8080/",
          "height": 285
        },
        "id": "By2fw5b7HvsT",
        "outputId": "67e06a2c-2936-44fc-b2c0-6b0bb32ff59b"
      },
      "execution_count": 126,
      "outputs": [
        {
          "output_type": "display_data",
          "data": {
            "image/png": "[encoded data removed]",
            "text/plain": [
              "<Figure size 432x288 with 1 Axes>"
            ]
          },
          "metadata": {}
        }
      ]
    },
    {
      "cell_type": "code",
      "source": [
        "# count plot on two categorical variable\n",
        "sns.countplot(x ='loan_status', hue = \"issue_d_year\", data = loan)\n",
        " # Show the plot\n",
        "plt.show()"
      ],
      "metadata": {
        "colab": {
          "base_uri": "https://localhost:8080/",
          "height": 285
        },
        "id": "C2rzggESLw4a",
        "outputId": "32ce88b9-7b39-4302-cd10-4db5d03602a0"
      },
      "execution_count": 130,
      "outputs": [
        {
          "output_type": "display_data",
          "data": {
            "image/png": "[encoded data removed]",
            "text/plain": [
              "<Figure size 432x288 with 1 Axes>"
            ]
          },
          "metadata": {}
        }
      ]
    },
    {
      "cell_type": "code",
      "source": [
        "# count plot on two categorical variable\n",
        "sns.countplot(y ='loan_status', hue = \"issue_d_month_binned\", data = loan)\n",
        "plt.figure(figsize=(100,8))\n",
        "\n",
        " # Show the plot\n",
        "plt.show()"
      ],
      "metadata": {
        "colab": {
          "base_uri": "https://localhost:8080/",
          "height": 302
        },
        "id": "4uOngITMOS_A",
        "outputId": "5a2db98a-55d2-4308-dc14-c81cd1142eae"
      },
      "execution_count": 154,
      "outputs": [
        {
          "output_type": "display_data",
          "data": {
            "image/png": "[encoded data removed]",
            "text/plain": [
              "<Figure size 432x288 with 1 Axes>"
            ]
          },
          "metadata": {}
        },
        {
          "output_type": "display_data",
          "data": {
            "text/plain": [
              "<Figure size 7200x576 with 0 Axes>"
            ]
          },
          "metadata": {}
        }
      ]
    },
    {
      "cell_type": "code",
      "source": [
        "# count plot on two categorical variable\n",
        "sns.countplot(y ='loan_status', hue = \"issue_d_month\", data = loan)\n",
        "plt.figure(figsize=(100,8))\n",
        "# Show the plot\n",
        "plt.show()"
      ],
      "metadata": {
        "colab": {
          "base_uri": "https://localhost:8080/",
          "height": 302
        },
        "id": "IkGdMGWlRpQR",
        "outputId": "ba30db55-ace5-43c3-bc04-e5e23d7ad79a"
      },
      "execution_count": 155,
      "outputs": [
        {
          "output_type": "display_data",
          "data": {
            "image/png": "[encoded data removed]",
            "text/plain": [
              "<Figure size 432x288 with 1 Axes>"
            ]
          },
          "metadata": {}
        },
        {
          "output_type": "display_data",
          "data": {
            "text/plain": [
              "<Figure size 7200x576 with 0 Axes>"
            ]
          },
          "metadata": {}
        }
      ]
    },
    {
      "cell_type": "code",
      "source": [
        "# count plot on two categorical variable\n",
        "sns.countplot(x ='issue_d_year', hue = \"issue_d_month_binned\", data = loan)\n",
        "plt.figure(figsize=(100,20))\n",
        "# Show the plot\n",
        "plt.show()"
      ],
      "metadata": {
        "colab": {
          "base_uri": "https://localhost:8080/",
          "height": 302
        },
        "id": "W_aU1ZKmOZFB",
        "outputId": "23346252-4995-4118-c4f9-daac94206ca8"
      },
      "execution_count": 153,
      "outputs": [
        {
          "output_type": "display_data",
          "data": {
            "image/png": "[encoded data removed]",
            "text/plain": [
              "<Figure size 432x288 with 1 Axes>"
            ]
          },
          "metadata": {}
        },
        {
          "output_type": "display_data",
          "data": {
            "text/plain": [
              "<Figure size 7200x1440 with 0 Axes>"
            ]
          },
          "metadata": {}
        }
      ]
    },
    {
      "cell_type": "code",
      "source": [
        "# count plot on two categorical variable\n",
        "sns.countplot(x ='issue_d_year', hue = \"int_rate_binned\", data = loan)\n",
        "plt.figure(figsize=(100,20))\n",
        "# Show the plot\n",
        "plt.show()"
      ],
      "metadata": {
        "colab": {
          "base_uri": "https://localhost:8080/",
          "height": 302
        },
        "id": "sFvo7BLkR6-x",
        "outputId": "bab15aa6-f955-423d-80c0-2b81dedd2748"
      },
      "execution_count": 161,
      "outputs": [
        {
          "output_type": "display_data",
          "data": {
            "image/png": "[encoded data removed]",
            "text/plain": [
              "<Figure size 432x288 with 1 Axes>"
            ]
          },
          "metadata": {}
        },
        {
          "output_type": "display_data",
          "data": {
            "text/plain": [
              "<Figure size 7200x1440 with 0 Axes>"
            ]
          },
          "metadata": {}
        }
      ]
    },
    {
      "cell_type": "code",
      "source": [
        ""
      ],
      "metadata": {
        "id": "p9gei5RQS4nA"
      },
      "execution_count": null,
      "outputs": []
    }
  ],
  "metadata": {
    "interpreter": {
      "hash": "b89b5cfaba6639976dc87ff2fec6d58faec662063367e2c229c520fe71072417"
    },
    "kernelspec": {
      "display_name": "Python 3 (ipykernel)",
      "language": "python",
      "name": "python3"
    },
    "language_info": {
      "codemirror_mode": {
        "name": "ipython",
        "version": 3
      },
      "file_extension": ".py",
      "mimetype": "text/x-python",
      "name": "python",
      "nbconvert_exporter": "python",
      "pygments_lexer": "ipython3",
      "version": "3.10.1"
    },
    "colab": {
      "name": "Ishan Karve.ipynb",
      "provenance": [],
      "include_colab_link": true
    }
  },
  "nbformat": 4,
  "nbformat_minor": 0
}